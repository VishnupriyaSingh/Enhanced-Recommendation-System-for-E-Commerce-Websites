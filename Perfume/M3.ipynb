{
 "cells": [
  {
   "cell_type": "code",
   "execution_count": 1,
   "metadata": {},
   "outputs": [
    {
     "name": "stderr",
     "output_type": "stream",
     "text": [
      "[nltk_data] Downloading package averaged_perceptron_tagger to\n",
      "[nltk_data]     /home/anubhav08/nltk_data...\n",
      "[nltk_data]   Package averaged_perceptron_tagger is already up-to-\n",
      "[nltk_data]       date!\n"
     ]
    }
   ],
   "source": [
    "import nltk\n",
    "nltk.download('averaged_perceptron_tagger')\n",
    "from nltk.corpus import state_union\n",
    "from nltk.tokenize import PunktSentenceTokenizer"
   ]
  },
  {
   "cell_type": "code",
   "execution_count": 2,
   "metadata": {},
   "outputs": [],
   "source": [
    "my_file = open(\"Text Reviews.txt\", \"r\")\n",
    "  \n",
    "# reading the file\n",
    "data = my_file.read()\n",
    "  \n",
    "# replacing end splitting the text \n",
    "# when newline ('\\n') is seen.\n",
    "text = data.split(\"\\n\")\n",
    "my_file.close()"
   ]
  },
  {
   "cell_type": "code",
   "execution_count": 3,
   "metadata": {},
   "outputs": [
    {
     "name": "stdout",
     "output_type": "stream",
     "text": [
      "After Split: ['Smells so bad, people will quarantine you even without a lockdown', '', 'Value for money and stays for long hours', '', \"Didn't expected this from fog spray\", '', 'This product is very excellent ', '', 'Very bad smell', '', 'Nice fragrance but slightly high price', '', \"The scent's initial impression is good. Just checked after receiving. Will better know after couple of days usage. But.. disappointed with the package as the cap was not sealed and the body had dents, as if like older or used product\", '', 'Nice fragrance.', '', 'Though there was no Cap, Product is Good. Value for money.', '', 'Good scent by fogg lasts pretty long', '', \"It's not lasting more than 3hrs don't buy it if you want long lasting perfect\", '', 'Product super but small damaged', '', 'Faded away', '', 'Not long-lasting', '', 'Product is very budget friendly but nothing you\\'ll like to wear around, you might question \"Whether this smell is good?\" so won\\'t recommend it. Suitable for those who just want a perfume and any smell will do fine', '', 'Container is damaged i.e. dent in 3 places', '', 'Excellent product', '', 'I think best quality product ', '', 'This fragrance is so awesome,I like So much & good packeeing', '', 'At first i thought it may be a fake beacuse there is tsunami of fake perfumes online and offline, but it is original so go for it,', 'Check for the fogg marking on the cap and the can outlet should have a transparent plastic seal.', '', 'Regret to buy', '', \"I have been using long time since the launch of Fogg and it's none of the deo has lete down ever.\", '', \"It's really a very good scent. Also in nice price. But the seller and company should improve their products by giving a little quality in seal packing. My product was temporarily sealed by a plastic tape which was not good to see. The company or provider and quality team should check this. All over it's good.\", '', 'I usually purchase based on riviews,', 'I really wonder why so much people given 5 stars!!!!!', '', 'Just invest more and buy different product. Smells good but it doesn’t last for more than 2 hours and protection also not good quantity okay .', '', '', '']\n",
      "After Token: [('Smells so bad, people will quarantine you even without a lockdown', 'NNP'), ('', 'NNP'), ('Value for money and stays for long hours', 'NNP'), ('', 'NNP'), (\"Didn't expected this from fog spray\", 'NNP'), ('', 'NNP'), ('This product is very excellent ', 'NNP'), ('', 'NNP'), ('Very bad smell', 'NNP'), ('', 'NNP'), ('Nice fragrance but slightly high price', 'NNP'), ('', 'NNP'), (\"The scent's initial impression is good. Just checked after receiving. Will better know after couple of days usage. But.. disappointed with the package as the cap was not sealed and the body had dents, as if like older or used product\", 'NNP'), ('', 'NNP'), ('Nice fragrance.', 'NNP'), ('', 'NNP'), ('Though there was no Cap, Product is Good. Value for money.', 'NNP'), ('', 'NNP'), ('Good scent by fogg lasts pretty long', 'NNP'), ('', 'NNP'), (\"It's not lasting more than 3hrs don't buy it if you want long lasting perfect\", 'NNP'), ('', 'NNP'), ('Product super but small damaged', 'NNP'), ('', 'NNP'), ('Faded away', 'NNP'), ('', 'NNP'), ('Not long-lasting', 'NNP'), ('', 'NNP'), ('Product is very budget friendly but nothing you\\'ll like to wear around, you might question \"Whether this smell is good?\" so won\\'t recommend it. Suitable for those who just want a perfume and any smell will do fine', 'NNP'), ('', 'NNP'), ('Container is damaged i.e. dent in 3 places', 'NNP'), ('', 'NNP'), ('Excellent product', 'NNP'), ('', 'NNP'), ('I think best quality product ', 'NNP'), ('', 'NNP'), ('This fragrance is so awesome,I like So much & good packeeing', 'NNP'), ('', 'NNP'), ('At first i thought it may be a fake beacuse there is tsunami of fake perfumes online and offline, but it is original so go for it,', 'NNP'), ('Check for the fogg marking on the cap and the can outlet should have a transparent plastic seal.', 'NNP'), ('', 'NNP'), ('Regret to buy', 'NNP'), ('', 'NNP'), (\"I have been using long time since the launch of Fogg and it's none of the deo has lete down ever.\", 'NNP'), ('', 'NNP'), (\"It's really a very good scent. Also in nice price. But the seller and company should improve their products by giving a little quality in seal packing. My product was temporarily sealed by a plastic tape which was not good to see. The company or provider and quality team should check this. All over it's good.\", 'NNP'), ('', 'NNP'), ('I usually purchase based on riviews,', 'NNP'), ('I really wonder why so much people given 5 stars!!!!!', 'NNP'), ('', 'NNP'), ('Just invest more and buy different product. Smells good but it doesn’t last for more than 2 hours and protection also not good quantity okay .', 'NNP'), ('', 'NNP'), ('', 'NNP'), ('', 'NN')]\n",
      "After Regex: chunk.RegexpParser with 1 stages:\n",
      "RegexpChunkParser with 1 rules:\n",
      "       <ChunkRule: '<NN.?>*<VBD.?>*<JJ.?>*<CC>?'>\n",
      "After Chunking (S\n",
      "  (mychunk\n",
      "    Smells so bad, people will quarantine you even without a lockdown/NNP\n",
      "    /NNP\n",
      "    Value for money and stays for long hours/NNP\n",
      "    /NNP\n",
      "    Didn't expected this from fog spray/NNP\n",
      "    /NNP\n",
      "    This product is very excellent /NNP\n",
      "    /NNP\n",
      "    Very bad smell/NNP\n",
      "    /NNP\n",
      "    Nice fragrance but slightly high price/NNP\n",
      "    /NNP\n",
      "    The scent's initial impression is good. Just checked after receiving. Will better know after couple of days usage. But.. disappointed with the package as the cap was not sealed and the body had dents, as if like older or used product/NNP\n",
      "    /NNP\n",
      "    Nice fragrance./NNP\n",
      "    /NNP\n",
      "    Though there was no Cap, Product is Good. Value for money./NNP\n",
      "    /NNP\n",
      "    Good scent by fogg lasts pretty long/NNP\n",
      "    /NNP\n",
      "    It's not lasting more than 3hrs don't buy it if you want long lasting perfect/NNP\n",
      "    /NNP\n",
      "    Product super but small damaged/NNP\n",
      "    /NNP\n",
      "    Faded away/NNP\n",
      "    /NNP\n",
      "    Not long-lasting/NNP\n",
      "    /NNP\n",
      "    Product is very budget friendly but nothing you'll like to wear around, you might question \"Whether this smell is good?\" so won't recommend it. Suitable for those who just want a perfume and any smell will do fine/NNP\n",
      "    /NNP\n",
      "    Container is damaged i.e. dent in 3 places/NNP\n",
      "    /NNP\n",
      "    Excellent product/NNP\n",
      "    /NNP\n",
      "    I think best quality product /NNP\n",
      "    /NNP\n",
      "    This fragrance is so awesome,I like So much & good packeeing/NNP\n",
      "    /NNP\n",
      "    At first i thought it may be a fake beacuse there is tsunami of fake perfumes online and offline, but it is original so go for it,/NNP\n",
      "    Check for the fogg marking on the cap and the can outlet should have a transparent plastic seal./NNP\n",
      "    /NNP\n",
      "    Regret to buy/NNP\n",
      "    /NNP\n",
      "    I have been using long time since the launch of Fogg and it's none of the deo has lete down ever./NNP\n",
      "    /NNP\n",
      "    It's really a very good scent. Also in nice price. But the seller and company should improve their products by giving a little quality in seal packing. My product was temporarily sealed by a plastic tape which was not good to see. The company or provider and quality team should check this. All over it's good./NNP\n",
      "    /NNP\n",
      "    I usually purchase based on riviews,/NNP\n",
      "    I really wonder why so much people given 5 stars!!!!!/NNP\n",
      "    /NNP\n",
      "    Just invest more and buy different product. Smells good but it doesn’t last for more than 2 hours and protection also not good quantity okay ./NNP\n",
      "    /NNP\n",
      "    /NNP\n",
      "    /NN))\n"
     ]
    }
   ],
   "source": [
    "from nltk import pos_tag\n",
    "from nltk import RegexpParser\n",
    "print(\"After Split:\",text)\n",
    "tokens_tag = pos_tag(text)\n",
    "print(\"After Token:\",tokens_tag)\n",
    "patterns= \"\"\"mychunk:{<NN.?>*<VBD.?>*<JJ.?>*<CC>?}\"\"\"\n",
    "chunker = RegexpParser(patterns)\n",
    "print(\"After Regex:\",chunker)\n",
    "output = chunker.parse(tokens_tag)\n",
    "print(\"After Chunking\",output)"
   ]
  },
  {
   "cell_type": "code",
   "execution_count": null,
   "metadata": {},
   "outputs": [],
   "source": []
  }
 ],
 "metadata": {
  "kernelspec": {
   "display_name": "Python 3.10.6 64-bit",
   "language": "python",
   "name": "python3"
  },
  "language_info": {
   "codemirror_mode": {
    "name": "ipython",
    "version": 3
   },
   "file_extension": ".py",
   "mimetype": "text/x-python",
   "name": "python",
   "nbconvert_exporter": "python",
   "pygments_lexer": "ipython3",
   "version": "3.10.6"
  },
  "orig_nbformat": 4,
  "vscode": {
   "interpreter": {
    "hash": "916dbcbb3f70747c44a77c7bcd40155683ae19c65e1c03b4aa3499c5328201f1"
   }
  }
 },
 "nbformat": 4,
 "nbformat_minor": 2
}

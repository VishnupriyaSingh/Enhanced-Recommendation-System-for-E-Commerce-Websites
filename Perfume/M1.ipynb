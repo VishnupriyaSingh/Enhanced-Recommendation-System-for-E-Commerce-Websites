{
 "cells": [
  {
   "cell_type": "code",
   "execution_count": 1,
   "metadata": {},
   "outputs": [
    {
     "name": "stderr",
     "output_type": "stream",
     "text": [
      "[nltk_data] Downloading package punkt to /home/anubhav08/nltk_data...\n",
      "[nltk_data]   Package punkt is already up-to-date!\n",
      "[nltk_data] Downloading package stopwords to\n",
      "[nltk_data]     /home/anubhav08/nltk_data...\n",
      "[nltk_data]   Package stopwords is already up-to-date!\n",
      "[nltk_data] Downloading package wordnet to\n",
      "[nltk_data]     /home/anubhav08/nltk_data...\n",
      "[nltk_data]   Package wordnet is already up-to-date!\n",
      "[nltk_data] Downloading package omw-1.4 to\n",
      "[nltk_data]     /home/anubhav08/nltk_data...\n",
      "[nltk_data]   Package omw-1.4 is already up-to-date!\n"
     ]
    }
   ],
   "source": [
    "import pandas as pd\n",
    "import numpy as np \n",
    "import nltk\n",
    "nltk.download('punkt')\n",
    "nltk.download('stopwords')\n",
    "nltk.download('wordnet')\n",
    "nltk.download('omw-1.4')\n",
    "from nltk.corpus import stopwords\n",
    "from nltk.tokenize import word_tokenize\n",
    "from nltk.stem import WordNetLemmatizer \n",
    "from nltk import ngrams\n",
    "from collections import Counter\n",
    "import seaborn as sns\n",
    "import matplotlib.pyplot as plt"
   ]
  },
  {
   "cell_type": "code",
   "execution_count": 2,
   "metadata": {},
   "outputs": [
    {
     "data": {
      "text/plain": [
       "title    object\n",
       "dtype: object"
      ]
     },
     "execution_count": 2,
     "metadata": {},
     "output_type": "execute_result"
    }
   ],
   "source": [
    "df = pd.read_csv('Text Reviews.csv')\n",
    "df.dtypes"
   ]
  },
  {
   "cell_type": "code",
   "execution_count": 3,
   "metadata": {},
   "outputs": [
    {
     "name": "stdout",
     "output_type": "stream",
     "text": [
      "(49, 1)\n"
     ]
    }
   ],
   "source": [
    "print(df.shape)"
   ]
  },
  {
   "cell_type": "code",
   "execution_count": 4,
   "metadata": {},
   "outputs": [],
   "source": [
    "messages = \" \".join([str(i) for i in df['title']])\n",
    "words = word_tokenize(messages)"
   ]
  },
  {
   "cell_type": "code",
   "execution_count": 5,
   "metadata": {},
   "outputs": [
    {
     "data": {
      "text/plain": [
       "'Smells so bad, people will quarantine you even without a lockdown Value for money and stays for long hours Cheap smell Didn\\'t expected this from fog spray Cheap smell This product is very excellent  Cheap smell Very bad smell Fades away Nice fragrance but slightly high price Cheap smell The scent\\'s initial impression is good. Just checked after receiving. Will better know after couple of days usage. But.. disappointed with the package as the cap was not sealed and the body had dents, as if like older or used product Cheap smell Nice fragrance. Cheap smell Though there was no Cap, Product is Good. Value for money. Cheap smell Good scent by fogg lasts pretty long Cheap smell It\\'s not lasting more than 3hrs don\\'t buy it if you want long lasting perfect Cheap smell Product super but small damaged Cheap smell Faded away Cheap smell Not long-lasting Faded away Product is very budget friendly but nothing you\\'ll like to wear around, you might question \"Whether this smell is good?\" so won\\'t recommend it. Suitable for those who just want a perfume and any smell will do fine Faded away Container is damaged i.e. dent in 3 places Faded away Excellent product Faded away I think best quality product  Faded away This fragrance is so awesome,I like So much & good packeeing Faded away At first i thought it may be a fake beacuse there is tsunami of fake perfumes online and offline, but it is original so go for it, Check for the fogg marking on the cap and the can outlet should have a transparent plastic seal. Faded away Regret to buy Faded away I have been using long time since the launch of Fogg and it\\'s none of the deo has lete down ever. Faded away It\\'s really a very good scent. Also in nice price. But the seller and company should improve their products by giving a little quality in seal packing. My product was temporarily sealed by a plastic tape which was not good to see. The company or provider and quality team should check this. All over it\\'s good. Faded away I usually purchase based on riviews, I really wonder why so much people given 5 stars!!!!! Just invest more and buy different product. Smells good but it doesn’t last for more than 2 hours and protection also not good quantity okay .'"
      ]
     },
     "execution_count": 5,
     "metadata": {},
     "output_type": "execute_result"
    }
   ],
   "source": [
    "messages"
   ]
  },
  {
   "cell_type": "code",
   "execution_count": 6,
   "metadata": {},
   "outputs": [],
   "source": [
    "def clean_words(new_tokens):\n",
    "    new_tokens = [t.lower() for t in new_tokens]\n",
    "    new_tokens =[t for t in new_tokens if t not in stopwords.words('english')]\n",
    "    new_tokens = [t for t in new_tokens if t.isalpha()]\n",
    "    lemmatizer = WordNetLemmatizer()\n",
    "    new_tokens =[lemmatizer.lemmatize(t) for t in new_tokens]\n",
    "    return new_tokens"
   ]
  },
  {
   "cell_type": "code",
   "execution_count": 7,
   "metadata": {},
   "outputs": [],
   "source": [
    "lowered = clean_words(words)"
   ]
  },
  {
   "cell_type": "code",
   "execution_count": 8,
   "metadata": {},
   "outputs": [
    {
     "data": {
      "text/plain": [
       "Counter({'smell': 16,\n",
       "         'bad': 2,\n",
       "         'people': 2,\n",
       "         'quarantine': 1,\n",
       "         'even': 1,\n",
       "         'without': 1,\n",
       "         'lockdown': 1,\n",
       "         'value': 2,\n",
       "         'money': 2,\n",
       "         'stay': 1,\n",
       "         'long': 4,\n",
       "         'hour': 2,\n",
       "         'cheap': 11,\n",
       "         'expected': 1,\n",
       "         'fog': 1,\n",
       "         'spray': 1,\n",
       "         'product': 10,\n",
       "         'excellent': 2,\n",
       "         'fade': 1,\n",
       "         'away': 12,\n",
       "         'nice': 3,\n",
       "         'fragrance': 3,\n",
       "         'slightly': 1,\n",
       "         'high': 1,\n",
       "         'price': 2,\n",
       "         'scent': 3,\n",
       "         'initial': 1,\n",
       "         'impression': 1,\n",
       "         'good': 10,\n",
       "         'checked': 1,\n",
       "         'receiving': 1,\n",
       "         'better': 1,\n",
       "         'know': 1,\n",
       "         'couple': 1,\n",
       "         'day': 1,\n",
       "         'usage': 1,\n",
       "         'disappointed': 1,\n",
       "         'package': 1,\n",
       "         'cap': 3,\n",
       "         'sealed': 2,\n",
       "         'body': 1,\n",
       "         'dent': 2,\n",
       "         'like': 3,\n",
       "         'older': 1,\n",
       "         'used': 1,\n",
       "         'though': 1,\n",
       "         'fogg': 3,\n",
       "         'last': 2,\n",
       "         'pretty': 1,\n",
       "         'lasting': 2,\n",
       "         'buy': 3,\n",
       "         'want': 2,\n",
       "         'perfect': 1,\n",
       "         'super': 1,\n",
       "         'small': 1,\n",
       "         'damaged': 2,\n",
       "         'faded': 11,\n",
       "         'budget': 1,\n",
       "         'friendly': 1,\n",
       "         'nothing': 1,\n",
       "         'wear': 1,\n",
       "         'around': 1,\n",
       "         'might': 1,\n",
       "         'question': 1,\n",
       "         'whether': 1,\n",
       "         'wo': 1,\n",
       "         'recommend': 1,\n",
       "         'suitable': 1,\n",
       "         'perfume': 2,\n",
       "         'fine': 1,\n",
       "         'container': 1,\n",
       "         'place': 1,\n",
       "         'think': 1,\n",
       "         'best': 1,\n",
       "         'quality': 3,\n",
       "         'awesome': 1,\n",
       "         'much': 2,\n",
       "         'packeeing': 1,\n",
       "         'first': 1,\n",
       "         'thought': 1,\n",
       "         'may': 1,\n",
       "         'fake': 2,\n",
       "         'beacuse': 1,\n",
       "         'tsunami': 1,\n",
       "         'online': 1,\n",
       "         'offline': 1,\n",
       "         'original': 1,\n",
       "         'go': 1,\n",
       "         'check': 2,\n",
       "         'marking': 1,\n",
       "         'outlet': 1,\n",
       "         'transparent': 1,\n",
       "         'plastic': 2,\n",
       "         'seal': 2,\n",
       "         'regret': 1,\n",
       "         'using': 1,\n",
       "         'time': 1,\n",
       "         'since': 1,\n",
       "         'launch': 1,\n",
       "         'none': 1,\n",
       "         'deo': 1,\n",
       "         'lete': 1,\n",
       "         'ever': 1,\n",
       "         'really': 2,\n",
       "         'also': 2,\n",
       "         'seller': 1,\n",
       "         'company': 2,\n",
       "         'improve': 1,\n",
       "         'giving': 1,\n",
       "         'little': 1,\n",
       "         'packing': 1,\n",
       "         'temporarily': 1,\n",
       "         'tape': 1,\n",
       "         'see': 1,\n",
       "         'provider': 1,\n",
       "         'team': 1,\n",
       "         'usually': 1,\n",
       "         'purchase': 1,\n",
       "         'based': 1,\n",
       "         'riviews': 1,\n",
       "         'wonder': 1,\n",
       "         'given': 1,\n",
       "         'star': 1,\n",
       "         'invest': 1,\n",
       "         'different': 1,\n",
       "         'protection': 1,\n",
       "         'quantity': 1,\n",
       "         'okay': 1})"
      ]
     },
     "execution_count": 8,
     "metadata": {},
     "output_type": "execute_result"
    }
   ],
   "source": [
    "bow = Counter(lowered)\n",
    "bow"
   ]
  },
  {
   "cell_type": "code",
   "execution_count": 9,
   "metadata": {},
   "outputs": [],
   "source": [
    "data = pd.DataFrame(bow.items(),columns=['word','frequency']).sort_values(by='frequency',ascending=False)"
   ]
  },
  {
   "cell_type": "code",
   "execution_count": 10,
   "metadata": {},
   "outputs": [],
   "source": [
    "data = data.head(10)"
   ]
  },
  {
   "cell_type": "code",
   "execution_count": 11,
   "metadata": {},
   "outputs": [
    {
     "data": {
      "text/plain": [
       "<AxesSubplot:xlabel='frequency', ylabel='word'>"
      ]
     },
     "execution_count": 11,
     "metadata": {},
     "output_type": "execute_result"
    },
    {
     "data": {
      "image/png": "[encoded data removed]",
      "text/plain": [
       "<Figure size 640x480 with 1 Axes>"
      ]
     },
     "metadata": {},
     "output_type": "display_data"
    }
   ],
   "source": [
    "sns.barplot(x='frequency',y='word',data=data)"
   ]
  },
  {
   "cell_type": "code",
   "execution_count": null,
   "metadata": {},
   "outputs": [],
   "source": []
  }
 ],
 "metadata": {
  "kernelspec": {
   "display_name": "Python 3.10.6 64-bit",
   "language": "python",
   "name": "python3"
  },
  "language_info": {
   "codemirror_mode": {
    "name": "ipython",
    "version": 3
   },
   "file_extension": ".py",
   "mimetype": "text/x-python",
   "name": "python",
   "nbconvert_exporter": "python",
   "pygments_lexer": "ipython3",
   "version": "3.10.6"
  },
  "orig_nbformat": 4,
  "vscode": {
   "interpreter": {
    "hash": "916dbcbb3f70747c44a77c7bcd40155683ae19c65e1c03b4aa3499c5328201f1"
   }
  }
 },
 "nbformat": 4,
 "nbformat_minor": 2
}

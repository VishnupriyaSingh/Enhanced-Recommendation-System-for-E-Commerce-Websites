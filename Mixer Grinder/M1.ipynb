{
 "cells": [
  {
   "cell_type": "code",
   "execution_count": 1,
   "metadata": {},
   "outputs": [
    {
     "name": "stderr",
     "output_type": "stream",
     "text": [
      "[nltk_data] Downloading package punkt to /home/anubhav08/nltk_data...\n",
      "[nltk_data]   Package punkt is already up-to-date!\n",
      "[nltk_data] Downloading package stopwords to\n",
      "[nltk_data]     /home/anubhav08/nltk_data...\n",
      "[nltk_data]   Package stopwords is already up-to-date!\n",
      "[nltk_data] Downloading package wordnet to\n",
      "[nltk_data]     /home/anubhav08/nltk_data...\n",
      "[nltk_data]   Package wordnet is already up-to-date!\n",
      "[nltk_data] Downloading package omw-1.4 to\n",
      "[nltk_data]     /home/anubhav08/nltk_data...\n",
      "[nltk_data]   Package omw-1.4 is already up-to-date!\n"
     ]
    }
   ],
   "source": [
    "import pandas as pd\n",
    "import numpy as np \n",
    "import nltk\n",
    "nltk.download('punkt')\n",
    "nltk.download('stopwords')\n",
    "nltk.download('wordnet')\n",
    "nltk.download('omw-1.4')\n",
    "from nltk.corpus import stopwords\n",
    "from nltk.tokenize import word_tokenize\n",
    "from nltk.stem import WordNetLemmatizer \n",
    "from nltk import ngrams\n",
    "from collections import Counter\n",
    "import seaborn as sns\n",
    "import matplotlib.pyplot as plt"
   ]
  },
  {
   "cell_type": "code",
   "execution_count": 2,
   "metadata": {},
   "outputs": [
    {
     "data": {
      "text/plain": [
       "title    object\n",
       "dtype: object"
      ]
     },
     "execution_count": 2,
     "metadata": {},
     "output_type": "execute_result"
    }
   ],
   "source": [
    "df = pd.read_csv('Text Reviews.csv')\n",
    "df.dtypes"
   ]
  },
  {
   "cell_type": "code",
   "execution_count": 3,
   "metadata": {},
   "outputs": [
    {
     "name": "stdout",
     "output_type": "stream",
     "text": [
      "(28, 1)\n"
     ]
    }
   ],
   "source": [
    "print(df.shape)"
   ]
  },
  {
   "cell_type": "code",
   "execution_count": 4,
   "metadata": {},
   "outputs": [],
   "source": [
    "messages = \" \".join([str(i) for i in df['title']])\n",
    "words = word_tokenize(messages)"
   ]
  },
  {
   "cell_type": "code",
   "execution_count": 5,
   "metadata": {},
   "outputs": [
    {
     "data": {
      "text/plain": [
       "\"Very compact to store. Makes chutney paste in minutes. Very handy for for grinding powder for sambar, amty. I'm writing this review after using it for more than one year. This mixer grinder is of average quality. The jar lids are of poor quality and when closing the lids they pop out in a few seconds, have to keep holding the lids by hand to keep the jars closed during grinding. Initially I didn't hold the lids tightly by hand and whatever I was grinding flew out of the jars messed up my kitchen. I realized now looking at some of the photos posted by other buyers that the manufacturer did not provide the rubber gaskets for the lids in my box. That's why I have been struggling to use this mixer. This mixer motor needs a lot of effort for dry and wet grinding and the motor turned off in less than 2 minutes several times in the last year alone. This is a waste of money for this grinder. Also several of the reviews are fake as you will get a small card in the box that if you give positive review the manufacturer will give 6 months extended warranty, hence I maybe like others was fooled into buying this mixer looking at the reviews. So don't get fooled. Spend a little more money and buy from well known brands for peace of mind This is a good mixer at this price point. it comes with 3 Jars. Build quality is also good. Please use earphones while using this mixer, very high noise of this mixer Very very worst,and waste money,I brought this an August, within the month it's not working properly,now it's totally waste.so anybody don't see this please. Excellent product in cheapest rate, purchased only 999/- Thank you Lifelong and Amazon  This grinder not function/starting now. Grinder received on 11 October 2022. Please intimate solution please. It's ok, good product The product is making noises as if parts are loose. Not even returning the product. Please read their return policy. The product quality is quite decent. It gets the job done superb. But don’t expect very heavy duty stuff as it is not made for that. Overall very good product for the price it comes for. Satisfied. It's been more than 4 years I am using it till now. Great deal and best product. Example of a great machine with no brand name. Like is that product is feasible good looking good work It's not working. Kindly replace the same. Kindly replace at the earliest. Heating problem. To much heat... Does not really the product. Quality is poor and it stops functioning after 10sec of use due to heating. Then have to wait for minutes so it cools off and re works.total waste of money I order and opened the box 1 month after buying. It was strange to know that new mixer was not working and small jars cover was not fitting on it. Amazon return policy is 10 days... Sad now i cant change...Totally wasteage of money. Never buy it. Overall it's a good quality product, cost efficient & easy to use. Perfect product and works very smooth and the cost is also not that high very affordable product my suggestion to my friends and relatives will be to buy this product I this price range it's is very good option. It is suitable for lite use only. Jars Were jammed ... Poor Product... Mailed to customer care but no immediate response... Good product price at least good. I got delivery on time. And the product is also really good and easy to use. The product was very nice & the product price was better to buy. I'm just want to say the product was really good.  Superb customer care service, very nice product and service , i have purchased many product of same compony very use full and effective, It's absolutely bad product I suggest you don't waste your money for this product. It's a steal at this price. Product is good for a small family and can serve all the requirements easily. Go for it if you are not looking for heavy duty stuff.\""
      ]
     },
     "execution_count": 5,
     "metadata": {},
     "output_type": "execute_result"
    }
   ],
   "source": [
    "messages"
   ]
  },
  {
   "cell_type": "code",
   "execution_count": 6,
   "metadata": {},
   "outputs": [],
   "source": [
    "def clean_words(new_tokens):\n",
    "    new_tokens = [t.lower() for t in new_tokens]\n",
    "    new_tokens =[t for t in new_tokens if t not in stopwords.words('english')]\n",
    "    new_tokens = [t for t in new_tokens if t.isalpha()]\n",
    "    lemmatizer = WordNetLemmatizer()\n",
    "    new_tokens =[lemmatizer.lemmatize(t) for t in new_tokens]\n",
    "    return new_tokens"
   ]
  },
  {
   "cell_type": "code",
   "execution_count": 7,
   "metadata": {},
   "outputs": [],
   "source": [
    "lowered = clean_words(words)"
   ]
  },
  {
   "cell_type": "code",
   "execution_count": 8,
   "metadata": {},
   "outputs": [
    {
     "data": {
      "text/plain": [
       "Counter({'compact': 1,\n",
       "         'store': 1,\n",
       "         'make': 1,\n",
       "         'chutney': 1,\n",
       "         'paste': 1,\n",
       "         'minute': 3,\n",
       "         'handy': 1,\n",
       "         'grinding': 4,\n",
       "         'powder': 1,\n",
       "         'sambar': 1,\n",
       "         'amty': 1,\n",
       "         'writing': 1,\n",
       "         'review': 4,\n",
       "         'using': 3,\n",
       "         'one': 1,\n",
       "         'year': 3,\n",
       "         'mixer': 8,\n",
       "         'grinder': 4,\n",
       "         'average': 1,\n",
       "         'quality': 6,\n",
       "         'jar': 6,\n",
       "         'lid': 5,\n",
       "         'poor': 3,\n",
       "         'closing': 1,\n",
       "         'pop': 1,\n",
       "         'second': 1,\n",
       "         'keep': 2,\n",
       "         'holding': 1,\n",
       "         'hand': 2,\n",
       "         'closed': 1,\n",
       "         'initially': 1,\n",
       "         'hold': 1,\n",
       "         'tightly': 1,\n",
       "         'whatever': 1,\n",
       "         'flew': 1,\n",
       "         'messed': 1,\n",
       "         'kitchen': 1,\n",
       "         'realized': 1,\n",
       "         'looking': 4,\n",
       "         'photo': 1,\n",
       "         'posted': 1,\n",
       "         'buyer': 1,\n",
       "         'manufacturer': 2,\n",
       "         'provide': 1,\n",
       "         'rubber': 1,\n",
       "         'gasket': 1,\n",
       "         'box': 3,\n",
       "         'struggling': 1,\n",
       "         'use': 7,\n",
       "         'motor': 2,\n",
       "         'need': 1,\n",
       "         'lot': 1,\n",
       "         'effort': 1,\n",
       "         'dry': 1,\n",
       "         'wet': 1,\n",
       "         'turned': 1,\n",
       "         'le': 1,\n",
       "         'several': 2,\n",
       "         'time': 2,\n",
       "         'last': 1,\n",
       "         'alone': 1,\n",
       "         'waste': 4,\n",
       "         'money': 6,\n",
       "         'also': 4,\n",
       "         'fake': 1,\n",
       "         'get': 3,\n",
       "         'small': 3,\n",
       "         'card': 1,\n",
       "         'give': 2,\n",
       "         'positive': 1,\n",
       "         'month': 3,\n",
       "         'extended': 1,\n",
       "         'warranty': 1,\n",
       "         'hence': 1,\n",
       "         'maybe': 1,\n",
       "         'like': 2,\n",
       "         'others': 1,\n",
       "         'fooled': 2,\n",
       "         'buying': 2,\n",
       "         'spend': 1,\n",
       "         'little': 1,\n",
       "         'buy': 4,\n",
       "         'well': 1,\n",
       "         'known': 1,\n",
       "         'brand': 2,\n",
       "         'peace': 1,\n",
       "         'mind': 1,\n",
       "         'good': 13,\n",
       "         'price': 6,\n",
       "         'point': 1,\n",
       "         'come': 2,\n",
       "         'build': 1,\n",
       "         'please': 5,\n",
       "         'earphone': 1,\n",
       "         'high': 2,\n",
       "         'noise': 2,\n",
       "         'worst': 1,\n",
       "         'brought': 1,\n",
       "         'august': 1,\n",
       "         'within': 1,\n",
       "         'working': 3,\n",
       "         'properly': 1,\n",
       "         'totally': 2,\n",
       "         'anybody': 1,\n",
       "         'see': 1,\n",
       "         'excellent': 1,\n",
       "         'product': 24,\n",
       "         'cheapest': 1,\n",
       "         'rate': 1,\n",
       "         'purchased': 2,\n",
       "         'thank': 1,\n",
       "         'lifelong': 1,\n",
       "         'amazon': 2,\n",
       "         'received': 1,\n",
       "         'october': 1,\n",
       "         'intimate': 1,\n",
       "         'solution': 1,\n",
       "         'ok': 1,\n",
       "         'making': 1,\n",
       "         'part': 1,\n",
       "         'loose': 1,\n",
       "         'even': 1,\n",
       "         'returning': 1,\n",
       "         'read': 1,\n",
       "         'return': 2,\n",
       "         'policy': 2,\n",
       "         'quite': 1,\n",
       "         'decent': 1,\n",
       "         'job': 1,\n",
       "         'done': 1,\n",
       "         'superb': 2,\n",
       "         'expect': 1,\n",
       "         'heavy': 2,\n",
       "         'duty': 2,\n",
       "         'stuff': 2,\n",
       "         'made': 1,\n",
       "         'overall': 2,\n",
       "         'satisfied': 1,\n",
       "         'till': 1,\n",
       "         'great': 2,\n",
       "         'deal': 1,\n",
       "         'best': 1,\n",
       "         'example': 1,\n",
       "         'machine': 1,\n",
       "         'name': 1,\n",
       "         'feasible': 1,\n",
       "         'work': 2,\n",
       "         'kindly': 2,\n",
       "         'replace': 2,\n",
       "         'earliest': 1,\n",
       "         'heating': 2,\n",
       "         'problem': 1,\n",
       "         'much': 1,\n",
       "         'heat': 1,\n",
       "         'really': 3,\n",
       "         'stop': 1,\n",
       "         'functioning': 1,\n",
       "         'due': 1,\n",
       "         'wait': 1,\n",
       "         'cool': 1,\n",
       "         'order': 1,\n",
       "         'opened': 1,\n",
       "         'strange': 1,\n",
       "         'know': 1,\n",
       "         'new': 1,\n",
       "         'cover': 1,\n",
       "         'fitting': 1,\n",
       "         'day': 1,\n",
       "         'sad': 1,\n",
       "         'cant': 1,\n",
       "         'change': 1,\n",
       "         'wasteage': 1,\n",
       "         'never': 1,\n",
       "         'cost': 2,\n",
       "         'efficient': 1,\n",
       "         'easy': 2,\n",
       "         'perfect': 1,\n",
       "         'smooth': 1,\n",
       "         'affordable': 1,\n",
       "         'suggestion': 1,\n",
       "         'friend': 1,\n",
       "         'relative': 1,\n",
       "         'range': 1,\n",
       "         'option': 1,\n",
       "         'suitable': 1,\n",
       "         'lite': 1,\n",
       "         'jammed': 1,\n",
       "         'mailed': 1,\n",
       "         'customer': 2,\n",
       "         'care': 2,\n",
       "         'immediate': 1,\n",
       "         'response': 1,\n",
       "         'least': 1,\n",
       "         'got': 1,\n",
       "         'delivery': 1,\n",
       "         'nice': 2,\n",
       "         'better': 1,\n",
       "         'want': 1,\n",
       "         'say': 1,\n",
       "         'service': 2,\n",
       "         'many': 1,\n",
       "         'compony': 1,\n",
       "         'full': 1,\n",
       "         'effective': 1,\n",
       "         'absolutely': 1,\n",
       "         'bad': 1,\n",
       "         'suggest': 1,\n",
       "         'steal': 1,\n",
       "         'family': 1,\n",
       "         'serve': 1,\n",
       "         'requirement': 1,\n",
       "         'easily': 1,\n",
       "         'go': 1})"
      ]
     },
     "execution_count": 8,
     "metadata": {},
     "output_type": "execute_result"
    }
   ],
   "source": [
    "bow = Counter(lowered)\n",
    "bow"
   ]
  },
  {
   "cell_type": "code",
   "execution_count": 9,
   "metadata": {},
   "outputs": [],
   "source": [
    "data = pd.DataFrame(bow.items(),columns=['word','frequency']).sort_values(by='frequency',ascending=False)"
   ]
  },
  {
   "cell_type": "code",
   "execution_count": 10,
   "metadata": {},
   "outputs": [],
   "source": [
    "data = data.head(10)"
   ]
  },
  {
   "cell_type": "code",
   "execution_count": 11,
   "metadata": {},
   "outputs": [
    {
     "data": {
      "text/plain": [
       "<AxesSubplot:xlabel='frequency', ylabel='word'>"
      ]
     },
     "execution_count": 11,
     "metadata": {},
     "output_type": "execute_result"
    },
    {
     "data": {
      "image/png": "[encoded data removed]",
      "text/plain": [
       "<Figure size 640x480 with 1 Axes>"
      ]
     },
     "metadata": {},
     "output_type": "display_data"
    }
   ],
   "source": [
    "sns.barplot(x='frequency',y='word',data=data)"
   ]
  },
  {
   "cell_type": "code",
   "execution_count": null,
   "metadata": {},
   "outputs": [],
   "source": []
  }
 ],
 "metadata": {
  "kernelspec": {
   "display_name": "Python 3.10.6 64-bit",
   "language": "python",
   "name": "python3"
  },
  "language_info": {
   "codemirror_mode": {
    "name": "ipython",
    "version": 3
   },
   "file_extension": ".py",
   "mimetype": "text/x-python",
   "name": "python",
   "nbconvert_exporter": "python",
   "pygments_lexer": "ipython3",
   "version": "3.10.6"
  },
  "orig_nbformat": 4,
  "vscode": {
   "interpreter": {
    "hash": "916dbcbb3f70747c44a77c7bcd40155683ae19c65e1c03b4aa3499c5328201f1"
   }
  }
 },
 "nbformat": 4,
 "nbformat_minor": 2
}

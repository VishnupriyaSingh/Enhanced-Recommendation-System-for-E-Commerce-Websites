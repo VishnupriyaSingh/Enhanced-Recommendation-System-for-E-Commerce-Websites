{
 "cells": [
  {
   "cell_type": "code",
   "execution_count": 1,
   "metadata": {},
   "outputs": [
    {
     "name": "stderr",
     "output_type": "stream",
     "text": [
      "[nltk_data] Downloading package averaged_perceptron_tagger to\n",
      "[nltk_data]     /home/anubhav08/nltk_data...\n",
      "[nltk_data]   Package averaged_perceptron_tagger is already up-to-\n",
      "[nltk_data]       date!\n"
     ]
    }
   ],
   "source": [
    "import nltk\n",
    "nltk.download('averaged_perceptron_tagger')\n",
    "from nltk.corpus import state_union\n",
    "from nltk.tokenize import PunktSentenceTokenizer"
   ]
  },
  {
   "cell_type": "code",
   "execution_count": 2,
   "metadata": {},
   "outputs": [],
   "source": [
    "my_file = open(\"Text Reviews.txt\", \"r\")\n",
    "  \n",
    "# reading the file\n",
    "data = my_file.read()\n",
    "  \n",
    "# replacing end splitting the text \n",
    "# when newline ('\\n') is seen.\n",
    "text = data.split(\"\\n\")\n",
    "my_file.close()"
   ]
  },
  {
   "cell_type": "code",
   "execution_count": 3,
   "metadata": {},
   "outputs": [
    {
     "name": "stdout",
     "output_type": "stream",
     "text": [
      "After Split: ['Very compact to store. Makes chutney paste in minutes. Very handy for for grinding powder for sambar, amty.', '', \"I'm writing this review after using it for more than one year. This mixer grinder is of average quality. The jar lids are of poor quality and when closing the lids they pop out in a few seconds, have to keep holding the lids by hand to keep the jars closed during grinding. Initially I didn't hold the lids tightly by hand and whatever I was grinding flew out of the jars messed up my kitchen. I realized now looking at some of the photos posted by other buyers that the manufacturer did not provide the rubber gaskets for the lids in my box. That's why I have been struggling to use this mixer. This mixer motor needs a lot of effort for dry and wet grinding and the motor turned off in less than 2 minutes several times in the last year alone. This is a waste of money for this grinder. Also several of the reviews are fake as you will get a small card in the box that if you give positive review the manufacturer will give 6 months extended warranty, hence I maybe like others was fooled into buying this mixer looking at the reviews. So don't get fooled. Spend a little more money and buy from well known brands for peace of mind\", '', 'This is a good mixer at this price point. it comes with 3 Jars. Build quality is also good.', '', 'Please use earphones while using this mixer, very high noise of this mixer', '', \"Very very worst,and waste money,I brought this an August, within the month it's not working properly,now it's totally waste.so anybody don't see this please.\", '', 'Excellent product in cheapest rate, purchased only 999/-', 'Thank you Lifelong and Amazon ', '', 'This grinder not function/starting now. Grinder received on 11 October 2022. Please intimate solution please.', '', \"It's ok, good product\", '', 'The product is making noises as if parts are loose. Not even returning the product. Please read their return policy.', '', 'The product quality is quite decent. It gets the job done superb. But don’t expect very heavy duty stuff as it is not made for that. Overall very good product for the price it comes for. Satisfied.', '', \"It's been more than 4 years I am using it till now. Great deal and best product. Example of a great machine with no brand name.\", '', 'Like is that product is feasible good looking good work', '', \"It's not working. Kindly replace the same. Kindly replace at the earliest.\", '', 'Heating problem. To much heat...', 'Does not really the product. Quality is poor and it stops functioning after 10sec of use due to heating. Then have to wait for minutes so it cools off and re works.total waste of money', '', 'I order and opened the box 1 month after buying. It was strange to know that new mixer was not working and small jars cover was not fitting on it. Amazon return policy is 10 days... Sad now i cant change...Totally wasteage of money. Never buy it.', '', \"Overall it's a good quality product, cost efficient & easy to use.\", '', 'Perfect product and works very smooth and the cost is also not that high very affordable product my suggestion to my friends and relatives will be to buy this product', '', \"I this price range it's is very good option.\", 'It is suitable for lite use only.', '', 'Jars Were jammed ... Poor Product... Mailed to customer care but no immediate response...', '', 'Good product price at least good.', '', 'I got delivery on time. And the product is also really good and easy to use.', '', \"The product was very nice & the product price was better to buy. I'm just want to say the product was really good. \", '', 'Superb customer care service, very nice product and service , i have purchased many product of same compony very use full and effective,', '', \"It's absolutely bad product I suggest you don't waste your money for this product.\", '', \"It's a steal at this price. Product is good for a small family and can serve all the requirements easily. Go for it if you are not looking for heavy duty stuff.\"]\n",
      "After Token: [('Very compact to store. Makes chutney paste in minutes. Very handy for for grinding powder for sambar, amty.', 'NNP'), ('', 'NNP'), (\"I'm writing this review after using it for more than one year. This mixer grinder is of average quality. The jar lids are of poor quality and when closing the lids they pop out in a few seconds, have to keep holding the lids by hand to keep the jars closed during grinding. Initially I didn't hold the lids tightly by hand and whatever I was grinding flew out of the jars messed up my kitchen. I realized now looking at some of the photos posted by other buyers that the manufacturer did not provide the rubber gaskets for the lids in my box. That's why I have been struggling to use this mixer. This mixer motor needs a lot of effort for dry and wet grinding and the motor turned off in less than 2 minutes several times in the last year alone. This is a waste of money for this grinder. Also several of the reviews are fake as you will get a small card in the box that if you give positive review the manufacturer will give 6 months extended warranty, hence I maybe like others was fooled into buying this mixer looking at the reviews. So don't get fooled. Spend a little more money and buy from well known brands for peace of mind\", 'NNP'), ('', 'NNP'), ('This is a good mixer at this price point. it comes with 3 Jars. Build quality is also good.', 'NNP'), ('', 'NNP'), ('Please use earphones while using this mixer, very high noise of this mixer', 'NNP'), ('', 'NNP'), (\"Very very worst,and waste money,I brought this an August, within the month it's not working properly,now it's totally waste.so anybody don't see this please.\", 'NNP'), ('', 'NNP'), ('Excellent product in cheapest rate, purchased only 999/-', 'NNP'), ('Thank you Lifelong and Amazon ', 'NNP'), ('', 'NNP'), ('This grinder not function/starting now. Grinder received on 11 October 2022. Please intimate solution please.', 'NNP'), ('', 'NNP'), (\"It's ok, good product\", 'NNP'), ('', 'NNP'), ('The product is making noises as if parts are loose. Not even returning the product. Please read their return policy.', 'NNP'), ('', 'NNP'), ('The product quality is quite decent. It gets the job done superb. But don’t expect very heavy duty stuff as it is not made for that. Overall very good product for the price it comes for. Satisfied.', 'NNP'), ('', 'NNP'), (\"It's been more than 4 years I am using it till now. Great deal and best product. Example of a great machine with no brand name.\", 'NNP'), ('', 'NNP'), ('Like is that product is feasible good looking good work', 'NNP'), ('', 'NNP'), (\"It's not working. Kindly replace the same. Kindly replace at the earliest.\", 'NNP'), ('', 'NNP'), ('Heating problem. To much heat...', 'NNP'), ('Does not really the product. Quality is poor and it stops functioning after 10sec of use due to heating. Then have to wait for minutes so it cools off and re works.total waste of money', 'NNP'), ('', 'NNP'), ('I order and opened the box 1 month after buying. It was strange to know that new mixer was not working and small jars cover was not fitting on it. Amazon return policy is 10 days... Sad now i cant change...Totally wasteage of money. Never buy it.', 'NNP'), ('', 'NNP'), (\"Overall it's a good quality product, cost efficient & easy to use.\", 'NNP'), ('', 'NNP'), ('Perfect product and works very smooth and the cost is also not that high very affordable product my suggestion to my friends and relatives will be to buy this product', 'NNP'), ('', 'NNP'), (\"I this price range it's is very good option.\", 'NNP'), ('It is suitable for lite use only.', 'NNP'), ('', 'NNP'), ('Jars Were jammed ... Poor Product... Mailed to customer care but no immediate response...', 'NNP'), ('', 'NNP'), ('Good product price at least good.', 'NNP'), ('', 'NNP'), ('I got delivery on time. And the product is also really good and easy to use.', 'NNP'), ('', 'NNP'), (\"The product was very nice & the product price was better to buy. I'm just want to say the product was really good. \", 'NNP'), ('', 'NNP'), ('Superb customer care service, very nice product and service , i have purchased many product of same compony very use full and effective,', 'NNP'), ('', 'NNP'), (\"It's absolutely bad product I suggest you don't waste your money for this product.\", 'NNP'), ('', 'NNP'), (\"It's a steal at this price. Product is good for a small family and can serve all the requirements easily. Go for it if you are not looking for heavy duty stuff.\", 'NNP')]\n",
      "After Regex: chunk.RegexpParser with 1 stages:\n",
      "RegexpChunkParser with 1 rules:\n",
      "       <ChunkRule: '<NN.?>*<VBD.?>*<JJ.?>*<CC>?'>\n",
      "After Chunking (S\n",
      "  (mychunk\n",
      "    Very compact to store. Makes chutney paste in minutes. Very handy for for grinding powder for sambar, amty./NNP\n",
      "    /NNP\n",
      "    I'm writing this review after using it for more than one year. This mixer grinder is of average quality. The jar lids are of poor quality and when closing the lids they pop out in a few seconds, have to keep holding the lids by hand to keep the jars closed during grinding. Initially I didn't hold the lids tightly by hand and whatever I was grinding flew out of the jars messed up my kitchen. I realized now looking at some of the photos posted by other buyers that the manufacturer did not provide the rubber gaskets for the lids in my box. That's why I have been struggling to use this mixer. This mixer motor needs a lot of effort for dry and wet grinding and the motor turned off in less than 2 minutes several times in the last year alone. This is a waste of money for this grinder. Also several of the reviews are fake as you will get a small card in the box that if you give positive review the manufacturer will give 6 months extended warranty, hence I maybe like others was fooled into buying this mixer looking at the reviews. So don't get fooled. Spend a little more money and buy from well known brands for peace of mind/NNP\n",
      "    /NNP\n",
      "    This is a good mixer at this price point. it comes with 3 Jars. Build quality is also good./NNP\n",
      "    /NNP\n",
      "    Please use earphones while using this mixer, very high noise of this mixer/NNP\n",
      "    /NNP\n",
      "    Very very worst,and waste money,I brought this an August, within the month it's not working properly,now it's totally waste.so anybody don't see this please./NNP\n",
      "    /NNP\n",
      "    Excellent product in cheapest rate, purchased only 999/-/NNP\n",
      "    Thank you Lifelong and Amazon /NNP\n",
      "    /NNP\n",
      "    This grinder not function/starting now. Grinder received on 11 October 2022. Please intimate solution please./NNP\n",
      "    /NNP\n",
      "    It's ok, good product/NNP\n",
      "    /NNP\n",
      "    The product is making noises as if parts are loose. Not even returning the product. Please read their return policy./NNP\n",
      "    /NNP\n",
      "    The product quality is quite decent. It gets the job done superb. But don’t expect very heavy duty stuff as it is not made for that. Overall very good product for the price it comes for. Satisfied./NNP\n",
      "    /NNP\n",
      "    It's been more than 4 years I am using it till now. Great deal and best product. Example of a great machine with no brand name./NNP\n",
      "    /NNP\n",
      "    Like is that product is feasible good looking good work/NNP\n",
      "    /NNP\n",
      "    It's not working. Kindly replace the same. Kindly replace at the earliest./NNP\n",
      "    /NNP\n",
      "    Heating problem. To much heat.../NNP\n",
      "    Does not really the product. Quality is poor and it stops functioning after 10sec of use due to heating. Then have to wait for minutes so it cools off and re works.total waste of money/NNP\n",
      "    /NNP\n",
      "    I order and opened the box 1 month after buying. It was strange to know that new mixer was not working and small jars cover was not fitting on it. Amazon return policy is 10 days... Sad now i cant change...Totally wasteage of money. Never buy it./NNP\n",
      "    /NNP\n",
      "    Overall it's a good quality product, cost efficient & easy to use./NNP\n",
      "    /NNP\n",
      "    Perfect product and works very smooth and the cost is also not that high very affordable product my suggestion to my friends and relatives will be to buy this product/NNP\n",
      "    /NNP\n",
      "    I this price range it's is very good option./NNP\n",
      "    It is suitable for lite use only./NNP\n",
      "    /NNP\n",
      "    Jars Were jammed ... Poor Product... Mailed to customer care but no immediate response.../NNP\n",
      "    /NNP\n",
      "    Good product price at least good./NNP\n",
      "    /NNP\n",
      "    I got delivery on time. And the product is also really good and easy to use./NNP\n",
      "    /NNP\n",
      "    The product was very nice & the product price was better to buy. I'm just want to say the product was really good. /NNP\n",
      "    /NNP\n",
      "    Superb customer care service, very nice product and service , i have purchased many product of same compony very use full and effective,/NNP\n",
      "    /NNP\n",
      "    It's absolutely bad product I suggest you don't waste your money for this product./NNP\n",
      "    /NNP\n",
      "    It's a steal at this price. Product is good for a small family and can serve all the requirements easily. Go for it if you are not looking for heavy duty stuff./NNP))\n"
     ]
    }
   ],
   "source": [
    "from nltk import pos_tag\n",
    "from nltk import RegexpParser\n",
    "print(\"After Split:\",text)\n",
    "tokens_tag = pos_tag(text)\n",
    "print(\"After Token:\",tokens_tag)\n",
    "patterns= \"\"\"mychunk:{<NN.?>*<VBD.?>*<JJ.?>*<CC>?}\"\"\"\n",
    "chunker = RegexpParser(patterns)\n",
    "print(\"After Regex:\",chunker)\n",
    "output = chunker.parse(tokens_tag)\n",
    "print(\"After Chunking\",output)"
   ]
  },
  {
   "cell_type": "code",
   "execution_count": null,
   "metadata": {},
   "outputs": [],
   "source": []
  }
 ],
 "metadata": {
  "kernelspec": {
   "display_name": "Python 3.10.6 64-bit",
   "language": "python",
   "name": "python3"
  },
  "language_info": {
   "codemirror_mode": {
    "name": "ipython",
    "version": 3
   },
   "file_extension": ".py",
   "mimetype": "text/x-python",
   "name": "python",
   "nbconvert_exporter": "python",
   "pygments_lexer": "ipython3",
   "version": "3.10.6"
  },
  "orig_nbformat": 4,
  "vscode": {
   "interpreter": {
    "hash": "916dbcbb3f70747c44a77c7bcd40155683ae19c65e1c03b4aa3499c5328201f1"
   }
  }
 },
 "nbformat": 4,
 "nbformat_minor": 2
}

{
 "cells": [
  {
   "cell_type": "code",
   "execution_count": 5,
   "metadata": {},
   "outputs": [
    {
     "name": "stderr",
     "output_type": "stream",
     "text": [
      "[nltk_data] Downloading package punkt to /home/anubhav08/nltk_data...\n",
      "[nltk_data]   Package punkt is already up-to-date!\n",
      "[nltk_data] Downloading package stopwords to\n",
      "[nltk_data]     /home/anubhav08/nltk_data...\n",
      "[nltk_data]   Package stopwords is already up-to-date!\n",
      "[nltk_data] Downloading package wordnet to\n",
      "[nltk_data]     /home/anubhav08/nltk_data...\n",
      "[nltk_data]   Package wordnet is already up-to-date!\n",
      "[nltk_data] Downloading package omw-1.4 to\n",
      "[nltk_data]     /home/anubhav08/nltk_data...\n",
      "[nltk_data]   Package omw-1.4 is already up-to-date!\n"
     ]
    }
   ],
   "source": [
    "import pandas as pd\n",
    "import numpy as np \n",
    "import nltk\n",
    "nltk.download('punkt')\n",
    "nltk.download('stopwords')\n",
    "nltk.download('wordnet')\n",
    "nltk.download('omw-1.4')\n",
    "from nltk.corpus import stopwords\n",
    "from nltk.tokenize import word_tokenize\n",
    "from nltk.stem import WordNetLemmatizer \n",
    "from nltk import ngrams\n",
    "from collections import Counter\n",
    "import seaborn as sns\n",
    "import matplotlib.pyplot as plt"
   ]
  },
  {
   "cell_type": "code",
   "execution_count": 6,
   "metadata": {},
   "outputs": [
    {
     "data": {
      "text/plain": [
       "title    object\n",
       "dtype: object"
      ]
     },
     "execution_count": 6,
     "metadata": {},
     "output_type": "execute_result"
    }
   ],
   "source": [
    "df = pd.read_csv('Text Reviews.csv')\n",
    "df.dtypes"
   ]
  },
  {
   "cell_type": "code",
   "execution_count": 7,
   "metadata": {},
   "outputs": [
    {
     "name": "stdout",
     "output_type": "stream",
     "text": [
      "(28, 1)\n"
     ]
    }
   ],
   "source": [
    "print(df.shape)"
   ]
  },
  {
   "cell_type": "code",
   "execution_count": 8,
   "metadata": {},
   "outputs": [],
   "source": [
    "messages = \" \".join([str(i) for i in df['title']])\n",
    "words = word_tokenize(messages)"
   ]
  },
  {
   "cell_type": "code",
   "execution_count": 9,
   "metadata": {},
   "outputs": [
    {
     "data": {
      "text/plain": [
       "\"Light weight Recived used product Product is good but the size to long Nice product. Light weight and looks cool I bought this expensive pair of overrated slippers (what else are they), still my friends call me idiot coz it looks dumb and they call me cheap also coz everytime on shop I give excuse that I spent all my money into it. I will personally rate it a 2, since it is a matter of class now a days so I will rate it a 3.5. The softer ones deserve 4.5. The crocs took a bit of time to get used too but after that they are very comfortable. But 1 thing is it's very warm on the feet. Feels good in winter but would NOT recommend in summer. The sweat is too much on feet during warm climate THE CROCS ARE GOOD BUT NOT SO COMFORTABLE AND GOOD FIT Value for money The sole threading starts to wear off after 1 year and you start to slip on the road. i recently slipped down the stairs while wearing crocs and twisted my left leg. i dont use crocs anymore because my leg is more important than the footwear. Finally i got my correct size crocs bayaband after 11 months from my first purchase. Firstly I ordered size UK 8 on last November which cost Rs 1414. The Delivery was on time But when i put it i feel like its Little bit large than my feet and when i checked in the backside it is written M9 & W11. So i returned the product and tried to order my correct size (UK 7). But the UK 7 crocs was out of stock . When it came back in stock the price was increased a lot upto 2000 and above. And finally during the Great Indian Festival i got my crocs sized UK 7 for 1398 and i was really happy. It fitted really well and looks great. It's been less than one month since i am using it I could not tell about the durability but we can expect a long durability as it is crocs. Try to buy one size less than your normal size. My brother is also using a crocs footwear A quality product. But they have a flaw that I advise you to be very careful about. Although these crocs are of the same size in the same pair between the right and left they have a significant difference in size. The length is the same but at the top of the foot (above) one is wider and one narrower. And then I add that on 3 pairs of Crocs bought 2 pairs they had this defect in one pair the left was narrower in another the right was narrower. It is the truth! I am now returning the third purchased pair. Perhaps because they were made in China. My size 7uk but 6uk is fit.. view the amazon pic same awesome white colour buy..This is good product Usage of crocs 8 hours per day...Long time use wear socks for doctor advice.. One of the best ever., very comfortable and durable. Must buy!! Dont buy its a duplicate product Loved it lite weight and comfort to use At this price it is a best deal... Good quality...nice looking... Dont use regulary else skin prob will happen. Some rashes will appear White line not good Gum is low quality I think so it's open in edge It’s good actually the priorities very well and fine for the students I ordered 9 but I received 10, thank God it's suits me perfectly. Quality and fit is extremely good. All Time Favourite Crocs  Inside the crocs it burns when you are in the sun. I thought crocs would be different than the normal clogs but it's the same. The product description says fit runs small and recommends ordering a size up, so I did. But it's still one size small. It's strange cause I tried my size at a Crocs outlet before ordering online so a bit disappointed as I am travelling from tomorrow and won't be able to return the product. Crocs orginal got unexpected price overall material and comfort wise good product\""
      ]
     },
     "execution_count": 9,
     "metadata": {},
     "output_type": "execute_result"
    }
   ],
   "source": [
    "messages"
   ]
  },
  {
   "cell_type": "code",
   "execution_count": 10,
   "metadata": {},
   "outputs": [],
   "source": [
    "def clean_words(new_tokens):\n",
    "    new_tokens = [t.lower() for t in new_tokens]\n",
    "    new_tokens =[t for t in new_tokens if t not in stopwords.words('english')]\n",
    "    new_tokens = [t for t in new_tokens if t.isalpha()]\n",
    "    lemmatizer = WordNetLemmatizer()\n",
    "    new_tokens =[lemmatizer.lemmatize(t) for t in new_tokens]\n",
    "    return new_tokens"
   ]
  },
  {
   "cell_type": "code",
   "execution_count": 11,
   "metadata": {},
   "outputs": [],
   "source": [
    "lowered = clean_words(words)"
   ]
  },
  {
   "cell_type": "code",
   "execution_count": 12,
   "metadata": {},
   "outputs": [
    {
     "data": {
      "text/plain": [
       "Counter({'light': 2,\n",
       "         'weight': 3,\n",
       "         'recived': 1,\n",
       "         'used': 2,\n",
       "         'product': 10,\n",
       "         'good': 10,\n",
       "         'size': 12,\n",
       "         'long': 3,\n",
       "         'nice': 2,\n",
       "         'look': 3,\n",
       "         'cool': 1,\n",
       "         'bought': 2,\n",
       "         'expensive': 1,\n",
       "         'pair': 6,\n",
       "         'overrated': 1,\n",
       "         'slipper': 1,\n",
       "         'else': 2,\n",
       "         'still': 2,\n",
       "         'friend': 1,\n",
       "         'call': 2,\n",
       "         'idiot': 1,\n",
       "         'coz': 2,\n",
       "         'dumb': 1,\n",
       "         'cheap': 1,\n",
       "         'also': 2,\n",
       "         'everytime': 1,\n",
       "         'shop': 1,\n",
       "         'give': 1,\n",
       "         'excuse': 1,\n",
       "         'spent': 1,\n",
       "         'money': 2,\n",
       "         'personally': 1,\n",
       "         'rate': 2,\n",
       "         'since': 2,\n",
       "         'matter': 1,\n",
       "         'class': 1,\n",
       "         'day': 2,\n",
       "         'softer': 1,\n",
       "         'one': 8,\n",
       "         'deserve': 1,\n",
       "         'crocs': 17,\n",
       "         'took': 1,\n",
       "         'bit': 3,\n",
       "         'time': 4,\n",
       "         'get': 1,\n",
       "         'comfortable': 3,\n",
       "         'thing': 1,\n",
       "         'warm': 2,\n",
       "         'foot': 4,\n",
       "         'feel': 2,\n",
       "         'winter': 1,\n",
       "         'would': 2,\n",
       "         'recommend': 1,\n",
       "         'summer': 1,\n",
       "         'sweat': 1,\n",
       "         'much': 1,\n",
       "         'climate': 1,\n",
       "         'fit': 4,\n",
       "         'value': 1,\n",
       "         'sole': 1,\n",
       "         'threading': 1,\n",
       "         'start': 2,\n",
       "         'wear': 2,\n",
       "         'year': 1,\n",
       "         'slip': 1,\n",
       "         'road': 1,\n",
       "         'recently': 1,\n",
       "         'slipped': 1,\n",
       "         'stair': 1,\n",
       "         'wearing': 1,\n",
       "         'twisted': 1,\n",
       "         'left': 3,\n",
       "         'leg': 2,\n",
       "         'dont': 3,\n",
       "         'use': 4,\n",
       "         'anymore': 1,\n",
       "         'important': 1,\n",
       "         'footwear': 2,\n",
       "         'finally': 2,\n",
       "         'got': 3,\n",
       "         'correct': 2,\n",
       "         'bayaband': 1,\n",
       "         'month': 2,\n",
       "         'first': 1,\n",
       "         'purchase': 1,\n",
       "         'firstly': 1,\n",
       "         'ordered': 2,\n",
       "         'uk': 4,\n",
       "         'last': 1,\n",
       "         'november': 1,\n",
       "         'cost': 1,\n",
       "         'r': 1,\n",
       "         'delivery': 1,\n",
       "         'put': 1,\n",
       "         'like': 1,\n",
       "         'little': 1,\n",
       "         'large': 1,\n",
       "         'checked': 1,\n",
       "         'backside': 1,\n",
       "         'written': 1,\n",
       "         'returned': 1,\n",
       "         'tried': 2,\n",
       "         'order': 1,\n",
       "         'stock': 2,\n",
       "         'came': 1,\n",
       "         'back': 1,\n",
       "         'price': 3,\n",
       "         'increased': 1,\n",
       "         'lot': 1,\n",
       "         'upto': 1,\n",
       "         'great': 2,\n",
       "         'indian': 1,\n",
       "         'festival': 1,\n",
       "         'sized': 1,\n",
       "         'really': 2,\n",
       "         'happy': 1,\n",
       "         'fitted': 1,\n",
       "         'well': 2,\n",
       "         'le': 2,\n",
       "         'using': 2,\n",
       "         'could': 1,\n",
       "         'tell': 1,\n",
       "         'durability': 2,\n",
       "         'expect': 1,\n",
       "         'try': 1,\n",
       "         'buy': 4,\n",
       "         'normal': 2,\n",
       "         'brother': 1,\n",
       "         'quality': 4,\n",
       "         'flaw': 1,\n",
       "         'advise': 1,\n",
       "         'careful': 1,\n",
       "         'although': 1,\n",
       "         'right': 2,\n",
       "         'significant': 1,\n",
       "         'difference': 1,\n",
       "         'length': 1,\n",
       "         'top': 1,\n",
       "         'wider': 1,\n",
       "         'narrower': 3,\n",
       "         'add': 1,\n",
       "         'defect': 1,\n",
       "         'another': 1,\n",
       "         'truth': 1,\n",
       "         'returning': 1,\n",
       "         'third': 1,\n",
       "         'purchased': 1,\n",
       "         'perhaps': 1,\n",
       "         'made': 1,\n",
       "         'china': 1,\n",
       "         'view': 1,\n",
       "         'amazon': 1,\n",
       "         'pic': 1,\n",
       "         'awesome': 1,\n",
       "         'white': 2,\n",
       "         'colour': 1,\n",
       "         'usage': 1,\n",
       "         'hour': 1,\n",
       "         'per': 1,\n",
       "         'sock': 1,\n",
       "         'doctor': 1,\n",
       "         'advice': 1,\n",
       "         'best': 2,\n",
       "         'durable': 1,\n",
       "         'must': 1,\n",
       "         'duplicate': 1,\n",
       "         'loved': 1,\n",
       "         'lite': 1,\n",
       "         'comfort': 2,\n",
       "         'deal': 1,\n",
       "         'looking': 1,\n",
       "         'regulary': 1,\n",
       "         'skin': 1,\n",
       "         'prob': 1,\n",
       "         'happen': 1,\n",
       "         'rash': 1,\n",
       "         'appear': 1,\n",
       "         'line': 1,\n",
       "         'gum': 1,\n",
       "         'low': 1,\n",
       "         'think': 1,\n",
       "         'open': 1,\n",
       "         'edge': 1,\n",
       "         'actually': 1,\n",
       "         'priority': 1,\n",
       "         'fine': 1,\n",
       "         'student': 1,\n",
       "         'received': 1,\n",
       "         'thank': 1,\n",
       "         'god': 1,\n",
       "         'suit': 1,\n",
       "         'perfectly': 1,\n",
       "         'extremely': 1,\n",
       "         'favourite': 1,\n",
       "         'inside': 1,\n",
       "         'burn': 1,\n",
       "         'sun': 1,\n",
       "         'thought': 1,\n",
       "         'different': 1,\n",
       "         'clog': 1,\n",
       "         'description': 1,\n",
       "         'say': 1,\n",
       "         'run': 1,\n",
       "         'small': 2,\n",
       "         'recommends': 1,\n",
       "         'ordering': 2,\n",
       "         'strange': 1,\n",
       "         'cause': 1,\n",
       "         'outlet': 1,\n",
       "         'online': 1,\n",
       "         'disappointed': 1,\n",
       "         'travelling': 1,\n",
       "         'tomorrow': 1,\n",
       "         'wo': 1,\n",
       "         'able': 1,\n",
       "         'return': 1,\n",
       "         'orginal': 1,\n",
       "         'unexpected': 1,\n",
       "         'overall': 1,\n",
       "         'material': 1,\n",
       "         'wise': 1})"
      ]
     },
     "execution_count": 12,
     "metadata": {},
     "output_type": "execute_result"
    }
   ],
   "source": [
    "bow = Counter(lowered)\n",
    "bow"
   ]
  },
  {
   "cell_type": "code",
   "execution_count": 13,
   "metadata": {},
   "outputs": [],
   "source": [
    "data = pd.DataFrame(bow.items(),columns=['word','frequency']).sort_values(by='frequency',ascending=False)"
   ]
  },
  {
   "cell_type": "code",
   "execution_count": 14,
   "metadata": {},
   "outputs": [],
   "source": [
    "data = data.head(10)"
   ]
  },
  {
   "cell_type": "code",
   "execution_count": 15,
   "metadata": {},
   "outputs": [
    {
     "data": {
      "text/plain": [
       "<AxesSubplot:xlabel='frequency', ylabel='word'>"
      ]
     },
     "execution_count": 15,
     "metadata": {},
     "output_type": "execute_result"
    },
    {
     "data": {
      "image/png": "[encoded data removed]",
      "text/plain": [
       "<Figure size 640x480 with 1 Axes>"
      ]
     },
     "metadata": {},
     "output_type": "display_data"
    }
   ],
   "source": [
    "sns.barplot(x='frequency',y='word',data=data)"
   ]
  },
  {
   "cell_type": "code",
   "execution_count": null,
   "metadata": {},
   "outputs": [],
   "source": []
  }
 ],
 "metadata": {
  "kernelspec": {
   "display_name": "Python 3 (ipykernel)",
   "language": "python",
   "name": "python3"
  },
  "language_info": {
   "codemirror_mode": {
    "name": "ipython",
    "version": 3
   },
   "file_extension": ".py",
   "mimetype": "text/x-python",
   "name": "python",
   "nbconvert_exporter": "python",
   "pygments_lexer": "ipython3",
   "version": "3.10.6"
  },
  "vscode": {
   "interpreter": {
    "hash": "916dbcbb3f70747c44a77c7bcd40155683ae19c65e1c03b4aa3499c5328201f1"
   }
  }
 },
 "nbformat": 4,
 "nbformat_minor": 2
}

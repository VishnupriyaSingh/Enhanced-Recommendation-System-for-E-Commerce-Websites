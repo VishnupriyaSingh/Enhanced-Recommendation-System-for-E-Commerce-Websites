{
 "cells": [
  {
   "cell_type": "code",
   "execution_count": 3,
   "metadata": {},
   "outputs": [
    {
     "name": "stderr",
     "output_type": "stream",
     "text": [
      "[nltk_data] Downloading package averaged_perceptron_tagger to\n",
      "[nltk_data]     /home/anubhav08/nltk_data...\n",
      "[nltk_data]   Package averaged_perceptron_tagger is already up-to-\n",
      "[nltk_data]       date!\n"
     ]
    }
   ],
   "source": [
    "import nltk\n",
    "nltk.download('averaged_perceptron_tagger')\n",
    "from nltk.corpus import state_union\n",
    "from nltk.tokenize import PunktSentenceTokenizer"
   ]
  },
  {
   "cell_type": "code",
   "execution_count": 4,
   "metadata": {},
   "outputs": [],
   "source": [
    "my_file = open(\"Text Reviews.txt\", \"r\")\n",
    "  \n",
    "# reading the file\n",
    "data = my_file.read()\n",
    "  \n",
    "# replacing end splitting the text \n",
    "# when newline ('\\n') is seen.\n",
    "text = data.split(\"\\n\")\n",
    "my_file.close()"
   ]
  },
  {
   "cell_type": "code",
   "execution_count": 5,
   "metadata": {},
   "outputs": [
    {
     "name": "stdout",
     "output_type": "stream",
     "text": [
      "After Split: ['Light weight', '', 'Recived used product', '', 'Product is good but the size to long', '', 'Nice product. Light weight and looks cool', '', 'I bought this expensive pair of overrated slippers (what else are they), still my friends call me idiot coz it looks dumb and they call me cheap also coz everytime on shop I give excuse that I spent all my money into it. I will personally rate it a 2, since it is a matter of class now a days so I will rate it a 3.5. The softer ones deserve 4.5.', '', 'The crocs took a bit of time to get used too but after that they are very comfortable.', \"But 1 thing is it's very warm on the feet. Feels good in winter but would NOT recommend in summer. The sweat is too much on feet during warm climate\", '', 'THE CROCS ARE GOOD BUT NOT SO COMFORTABLE AND GOOD FIT', '', 'Value for money', '', 'The sole threading starts to wear off after 1 year and you start to slip on the road. i recently slipped down the stairs while wearing crocs and twisted my left leg. i dont use crocs anymore because my leg is more important than the footwear.', '', \"Finally i got my correct size crocs bayaband after 11 months from my first purchase. Firstly I ordered size UK 8 on last November which cost Rs 1414. The Delivery was on time But when i put it i feel like its Little bit large than my feet and when i checked in the backside it is written M9 & W11. So i returned the product and tried to order my correct size (UK 7). But the UK 7 crocs was out of stock . When it came back in stock the price was increased a lot upto 2000 and above. And finally during the Great Indian Festival i got my crocs sized UK 7 for 1398 and i was really happy. It fitted really well and looks great. It's been less than one month since i am using it I could not tell about the durability but we can expect a long durability as it is crocs. Try to buy one size less than your normal size. My brother is also using a crocs footwear\", '', 'A quality product. But they have a flaw that I advise you to be very careful about. Although these crocs are of the same size in the same pair between the right and left they have a significant difference in size. The length is the same but at the top of the foot (above) one is wider and one narrower. And then I add that on 3 pairs of Crocs bought 2 pairs they had this defect in one pair the left was narrower in another the right was narrower. It is the truth! I am now returning the third purchased pair. Perhaps because they were made in China.', '', 'My size 7uk but 6uk is fit.. view the amazon pic same awesome white colour buy..This is good product Usage of crocs 8 hours per day...Long time use wear socks for doctor advice..', '', 'One of the best ever., very comfortable and durable. Must buy!!', '', 'Dont buy its a duplicate product', '', 'Loved it lite weight and comfort to use', '', 'At this price it is a best deal...', 'Good quality...nice looking...', '', 'Dont use regulary else skin prob will happen. Some rashes will appear', '', 'White line not good', \"Gum is low quality I think so it's open in edge\", '', 'It’s good actually the priorities very well and fine for the students', '', \"I ordered 9 but I received 10, thank God it's suits me perfectly. Quality and fit is extremely good.\", '', 'All Time Favourite Crocs ', '', \"Inside the crocs it burns when you are in the sun. I thought crocs would be different than the normal clogs but it's the same.\", '', \"The product description says fit runs small and recommends ordering a size up, so I did. But it's still one size small. It's strange cause I tried my size at a Crocs outlet before ordering online so a bit disappointed as I am travelling from tomorrow and won't be able to return the product.\", '', 'Crocs orginal got unexpected price', '', 'overall material and comfort wise good product']\n",
      "After Token: [('Light weight', 'NNP'), ('', 'NNP'), ('Recived used product', 'NNP'), ('', 'NNP'), ('Product is good but the size to long', 'NNP'), ('', 'NNP'), ('Nice product. Light weight and looks cool', 'NNP'), ('', 'NNP'), ('I bought this expensive pair of overrated slippers (what else are they), still my friends call me idiot coz it looks dumb and they call me cheap also coz everytime on shop I give excuse that I spent all my money into it. I will personally rate it a 2, since it is a matter of class now a days so I will rate it a 3.5. The softer ones deserve 4.5.', 'NNP'), ('', 'NNP'), ('The crocs took a bit of time to get used too but after that they are very comfortable.', 'NNP'), (\"But 1 thing is it's very warm on the feet. Feels good in winter but would NOT recommend in summer. The sweat is too much on feet during warm climate\", 'NNP'), ('', 'NNP'), ('THE CROCS ARE GOOD BUT NOT SO COMFORTABLE AND GOOD FIT', 'NNP'), ('', 'NNP'), ('Value for money', 'NNP'), ('', 'NNP'), ('The sole threading starts to wear off after 1 year and you start to slip on the road. i recently slipped down the stairs while wearing crocs and twisted my left leg. i dont use crocs anymore because my leg is more important than the footwear.', 'NNP'), ('', 'NNP'), (\"Finally i got my correct size crocs bayaband after 11 months from my first purchase. Firstly I ordered size UK 8 on last November which cost Rs 1414. The Delivery was on time But when i put it i feel like its Little bit large than my feet and when i checked in the backside it is written M9 & W11. So i returned the product and tried to order my correct size (UK 7). But the UK 7 crocs was out of stock . When it came back in stock the price was increased a lot upto 2000 and above. And finally during the Great Indian Festival i got my crocs sized UK 7 for 1398 and i was really happy. It fitted really well and looks great. It's been less than one month since i am using it I could not tell about the durability but we can expect a long durability as it is crocs. Try to buy one size less than your normal size. My brother is also using a crocs footwear\", 'NNP'), ('', 'NNP'), ('A quality product. But they have a flaw that I advise you to be very careful about. Although these crocs are of the same size in the same pair between the right and left they have a significant difference in size. The length is the same but at the top of the foot (above) one is wider and one narrower. And then I add that on 3 pairs of Crocs bought 2 pairs they had this defect in one pair the left was narrower in another the right was narrower. It is the truth! I am now returning the third purchased pair. Perhaps because they were made in China.', 'NNP'), ('', 'NNP'), ('My size 7uk but 6uk is fit.. view the amazon pic same awesome white colour buy..This is good product Usage of crocs 8 hours per day...Long time use wear socks for doctor advice..', 'NNP'), ('', 'NNP'), ('One of the best ever., very comfortable and durable. Must buy!!', 'NNP'), ('', 'NNP'), ('Dont buy its a duplicate product', 'NNP'), ('', 'NNP'), ('Loved it lite weight and comfort to use', 'NNP'), ('', 'NNP'), ('At this price it is a best deal...', 'NNP'), ('Good quality...nice looking...', 'NNP'), ('', 'NNP'), ('Dont use regulary else skin prob will happen. Some rashes will appear', 'NNP'), ('', 'NNP'), ('White line not good', 'NNP'), (\"Gum is low quality I think so it's open in edge\", 'NNP'), ('', 'NNP'), ('It’s good actually the priorities very well and fine for the students', 'NNP'), ('', 'NNP'), (\"I ordered 9 but I received 10, thank God it's suits me perfectly. Quality and fit is extremely good.\", 'NNP'), ('', 'NNP'), ('All Time Favourite Crocs ', 'NNP'), ('', 'NNP'), (\"Inside the crocs it burns when you are in the sun. I thought crocs would be different than the normal clogs but it's the same.\", 'NNP'), ('', 'NNP'), (\"The product description says fit runs small and recommends ordering a size up, so I did. But it's still one size small. It's strange cause I tried my size at a Crocs outlet before ordering online so a bit disappointed as I am travelling from tomorrow and won't be able to return the product.\", 'NNP'), ('', 'NNP'), ('Crocs orginal got unexpected price', 'NNP'), ('', 'NNP'), ('overall material and comfort wise good product', 'NN')]\n",
      "After Regex: chunk.RegexpParser with 1 stages:\n",
      "RegexpChunkParser with 1 rules:\n",
      "       <ChunkRule: '<NN.?>*<VBD.?>*<JJ.?>*<CC>?'>\n",
      "After Chunking (S\n",
      "  (mychunk\n",
      "    Light weight/NNP\n",
      "    /NNP\n",
      "    Recived used product/NNP\n",
      "    /NNP\n",
      "    Product is good but the size to long/NNP\n",
      "    /NNP\n",
      "    Nice product. Light weight and looks cool/NNP\n",
      "    /NNP\n",
      "    I bought this expensive pair of overrated slippers (what else are they), still my friends call me idiot coz it looks dumb and they call me cheap also coz everytime on shop I give excuse that I spent all my money into it. I will personally rate it a 2, since it is a matter of class now a days so I will rate it a 3.5. The softer ones deserve 4.5./NNP\n",
      "    /NNP\n",
      "    The crocs took a bit of time to get used too but after that they are very comfortable./NNP\n",
      "    But 1 thing is it's very warm on the feet. Feels good in winter but would NOT recommend in summer. The sweat is too much on feet during warm climate/NNP\n",
      "    /NNP\n",
      "    THE CROCS ARE GOOD BUT NOT SO COMFORTABLE AND GOOD FIT/NNP\n",
      "    /NNP\n",
      "    Value for money/NNP\n",
      "    /NNP\n",
      "    The sole threading starts to wear off after 1 year and you start to slip on the road. i recently slipped down the stairs while wearing crocs and twisted my left leg. i dont use crocs anymore because my leg is more important than the footwear./NNP\n",
      "    /NNP\n",
      "    Finally i got my correct size crocs bayaband after 11 months from my first purchase. Firstly I ordered size UK 8 on last November which cost Rs 1414. The Delivery was on time But when i put it i feel like its Little bit large than my feet and when i checked in the backside it is written M9 & W11. So i returned the product and tried to order my correct size (UK 7). But the UK 7 crocs was out of stock . When it came back in stock the price was increased a lot upto 2000 and above. And finally during the Great Indian Festival i got my crocs sized UK 7 for 1398 and i was really happy. It fitted really well and looks great. It's been less than one month since i am using it I could not tell about the durability but we can expect a long durability as it is crocs. Try to buy one size less than your normal size. My brother is also using a crocs footwear/NNP\n",
      "    /NNP\n",
      "    A quality product. But they have a flaw that I advise you to be very careful about. Although these crocs are of the same size in the same pair between the right and left they have a significant difference in size. The length is the same but at the top of the foot (above) one is wider and one narrower. And then I add that on 3 pairs of Crocs bought 2 pairs they had this defect in one pair the left was narrower in another the right was narrower. It is the truth! I am now returning the third purchased pair. Perhaps because they were made in China./NNP\n",
      "    /NNP\n",
      "    My size 7uk but 6uk is fit.. view the amazon pic same awesome white colour buy..This is good product Usage of crocs 8 hours per day...Long time use wear socks for doctor advice../NNP\n",
      "    /NNP\n",
      "    One of the best ever., very comfortable and durable. Must buy!!/NNP\n",
      "    /NNP\n",
      "    Dont buy its a duplicate product/NNP\n",
      "    /NNP\n",
      "    Loved it lite weight and comfort to use/NNP\n",
      "    /NNP\n",
      "    At this price it is a best deal.../NNP\n",
      "    Good quality...nice looking.../NNP\n",
      "    /NNP\n",
      "    Dont use regulary else skin prob will happen. Some rashes will appear/NNP\n",
      "    /NNP\n",
      "    White line not good/NNP\n",
      "    Gum is low quality I think so it's open in edge/NNP\n",
      "    /NNP\n",
      "    It’s good actually the priorities very well and fine for the students/NNP\n",
      "    /NNP\n",
      "    I ordered 9 but I received 10, thank God it's suits me perfectly. Quality and fit is extremely good./NNP\n",
      "    /NNP\n",
      "    All Time Favourite Crocs /NNP\n",
      "    /NNP\n",
      "    Inside the crocs it burns when you are in the sun. I thought crocs would be different than the normal clogs but it's the same./NNP\n",
      "    /NNP\n",
      "    The product description says fit runs small and recommends ordering a size up, so I did. But it's still one size small. It's strange cause I tried my size at a Crocs outlet before ordering online so a bit disappointed as I am travelling from tomorrow and won't be able to return the product./NNP\n",
      "    /NNP\n",
      "    Crocs orginal got unexpected price/NNP\n",
      "    /NNP\n",
      "    overall material and comfort wise good product/NN))\n"
     ]
    }
   ],
   "source": [
    "from nltk import pos_tag\n",
    "from nltk import RegexpParser\n",
    "print(\"After Split:\",text)\n",
    "tokens_tag = pos_tag(text)\n",
    "print(\"After Token:\",tokens_tag)\n",
    "patterns= \"\"\"mychunk:{<NN.?>*<VBD.?>*<JJ.?>*<CC>?}\"\"\"\n",
    "chunker = RegexpParser(patterns)\n",
    "print(\"After Regex:\",chunker)\n",
    "output = chunker.parse(tokens_tag)\n",
    "print(\"After Chunking\",output)"
   ]
  },
  {
   "cell_type": "code",
   "execution_count": null,
   "metadata": {},
   "outputs": [],
   "source": []
  }
 ],
 "metadata": {
  "kernelspec": {
   "display_name": "Python 3 (ipykernel)",
   "language": "python",
   "name": "python3"
  },
  "language_info": {
   "codemirror_mode": {
    "name": "ipython",
    "version": 3
   },
   "file_extension": ".py",
   "mimetype": "text/x-python",
   "name": "python",
   "nbconvert_exporter": "python",
   "pygments_lexer": "ipython3",
   "version": "3.10.6"
  },
  "vscode": {
   "interpreter": {
    "hash": "916dbcbb3f70747c44a77c7bcd40155683ae19c65e1c03b4aa3499c5328201f1"
   }
  }
 },
 "nbformat": 4,
 "nbformat_minor": 2
}

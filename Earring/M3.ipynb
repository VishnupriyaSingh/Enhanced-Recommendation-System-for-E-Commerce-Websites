{
 "cells": [
  {
   "cell_type": "code",
   "execution_count": 1,
   "metadata": {},
   "outputs": [
    {
     "name": "stderr",
     "output_type": "stream",
     "text": [
      "[nltk_data] Downloading package averaged_perceptron_tagger to\n",
      "[nltk_data]     /home/anubhav08/nltk_data...\n",
      "[nltk_data]   Package averaged_perceptron_tagger is already up-to-\n",
      "[nltk_data]       date!\n"
     ]
    }
   ],
   "source": [
    "import nltk\n",
    "nltk.download('averaged_perceptron_tagger')\n",
    "from nltk.corpus import state_union\n",
    "from nltk.tokenize import PunktSentenceTokenizer"
   ]
  },
  {
   "cell_type": "code",
   "execution_count": 2,
   "metadata": {},
   "outputs": [],
   "source": [
    "my_file = open(\"Text Reviews.txt\", \"r\")\n",
    "  \n",
    "# reading the file\n",
    "data = my_file.read()\n",
    "  \n",
    "# replacing end splitting the text \n",
    "# when newline ('\\n') is seen.\n",
    "text = data.split(\"\\n\")\n",
    "my_file.close()"
   ]
  },
  {
   "cell_type": "code",
   "execution_count": 3,
   "metadata": {},
   "outputs": [
    {
     "name": "stdout",
     "output_type": "stream",
     "text": [
      "After Split: [\"It's very very beautiful. I loved all the designs. Thank you so much Shining Diva\", '', 'Poor quality. One time used products', '', 'The studs look good and pretty classy', '', 'Not bad', '', 'Damaged product received. Looks beautiful on the picture but in reality it’s looks old and damaged and there’s no good polish over the product . Golden hoops are almost rusty which looks very poor. Packaging was okay but as soon as I opened the pack the damaged hoop pop out . Quality is zero. Advised to not purchase', '', 'It is all plastic and break easily even the hooka are of plastic not value of money from my perspective', '', 'Nice studs', '', 'Not as I expected. All the studs are tiny and quick to loose color with one wear.', '', 'Exactly as shown. The studs were small but exactly as shown in the pic.', '', 'Made up of plastic. Easily broken up. Even I put request for returning after 10 days not any kind of information available for picking up product. Totally disappointed', '', 'Worth for money. Nice product.', '', 'Like it. Highly recommend for kids who love to wear earrings matching to dresses.', '', 'Looking good but colour is not long lasting', '', 'Its good bt different designs should keep,silver and golden looks same there is no difference only', '', \"Its the worst quality of earrings. Unless its for a one time use for a group of kidsdon't even think of this thing lasting even for a week. Changed colour on wearing it once\", '', 'It was awesome. Very good quality, perfect finish. But same patterns repeated in both silver and golden. It would be double happy if both had different designs.', '', 'It looks expensive but I got at cheaper rate.The earrings are worth more than the mention prices.', '', \"The earrings look really pretty. They are light weight too. Although there's a repetition of a particular colour (bluish-green) the variations make up for it. But the earring stoppers are really small, small I mean miniscule, so it's quite a task to wear it. But other than that I am very happy with the product as well as with the packaging.\", '', 'Quality not good', '', 'Good product... however the earings are loosely screwed', '', 'The case was broken. Very low quality product', '', 'Amazing!!', 'Shiny, lightweight, different types of shapes and sizes those cute little earrings.', 'I love it.', '', 'I like it very much...value for money truely.', '', 'Loved the product overall would really recommend', '', 'Few pairs are good and few are so fragile--one pair of ear ring was broken into pieces.', '', '', '', '', '', '', '', '', '', '']\n",
      "After Token: [(\"It's very very beautiful. I loved all the designs. Thank you so much Shining Diva\", 'NNP'), ('', 'NNP'), ('Poor quality. One time used products', 'NNP'), ('', 'NNP'), ('The studs look good and pretty classy', 'NNP'), ('', 'NNP'), ('Not bad', 'NNP'), ('', 'NNP'), ('Damaged product received. Looks beautiful on the picture but in reality it’s looks old and damaged and there’s no good polish over the product . Golden hoops are almost rusty which looks very poor. Packaging was okay but as soon as I opened the pack the damaged hoop pop out . Quality is zero. Advised to not purchase', 'NNP'), ('', 'NNP'), ('It is all plastic and break easily even the hooka are of plastic not value of money from my perspective', 'NNP'), ('', 'NNP'), ('Nice studs', 'NNP'), ('', 'NNP'), ('Not as I expected. All the studs are tiny and quick to loose color with one wear.', 'NNP'), ('', 'NNP'), ('Exactly as shown. The studs were small but exactly as shown in the pic.', 'NNP'), ('', 'NNP'), ('Made up of plastic. Easily broken up. Even I put request for returning after 10 days not any kind of information available for picking up product. Totally disappointed', 'NNP'), ('', 'NNP'), ('Worth for money. Nice product.', 'NNP'), ('', 'NNP'), ('Like it. Highly recommend for kids who love to wear earrings matching to dresses.', 'NNP'), ('', 'NNP'), ('Looking good but colour is not long lasting', 'NNP'), ('', 'NNP'), ('Its good bt different designs should keep,silver and golden looks same there is no difference only', 'NNP'), ('', 'NNP'), (\"Its the worst quality of earrings. Unless its for a one time use for a group of kidsdon't even think of this thing lasting even for a week. Changed colour on wearing it once\", 'NNP'), ('', 'NNP'), ('It was awesome. Very good quality, perfect finish. But same patterns repeated in both silver and golden. It would be double happy if both had different designs.', 'NNP'), ('', 'NNP'), ('It looks expensive but I got at cheaper rate.The earrings are worth more than the mention prices.', 'NNP'), ('', 'NNP'), (\"The earrings look really pretty. They are light weight too. Although there's a repetition of a particular colour (bluish-green) the variations make up for it. But the earring stoppers are really small, small I mean miniscule, so it's quite a task to wear it. But other than that I am very happy with the product as well as with the packaging.\", 'NNP'), ('', 'NNP'), ('Quality not good', 'NNP'), ('', 'NNP'), ('Good product... however the earings are loosely screwed', 'NNP'), ('', 'NNP'), ('The case was broken. Very low quality product', 'NNP'), ('', 'NNP'), ('Amazing!!', 'NNP'), ('Shiny, lightweight, different types of shapes and sizes those cute little earrings.', 'NNP'), ('I love it.', 'NNP'), ('', 'NNP'), ('I like it very much...value for money truely.', 'NNP'), ('', 'NNP'), ('Loved the product overall would really recommend', 'NNP'), ('', 'NNP'), ('Few pairs are good and few are so fragile--one pair of ear ring was broken into pieces.', 'NNP'), ('', 'NNP'), ('', 'NNP'), ('', 'NNP'), ('', 'NNP'), ('', 'NNP'), ('', 'NNP'), ('', 'NNP'), ('', 'NNP'), ('', 'NNP'), ('', 'NN')]\n",
      "After Regex: chunk.RegexpParser with 1 stages:\n",
      "RegexpChunkParser with 1 rules:\n",
      "       <ChunkRule: '<NN.?>*<VBD.?>*<JJ.?>*<CC>?'>\n",
      "After Chunking (S\n",
      "  (mychunk\n",
      "    It's very very beautiful. I loved all the designs. Thank you so much Shining Diva/NNP\n",
      "    /NNP\n",
      "    Poor quality. One time used products/NNP\n",
      "    /NNP\n",
      "    The studs look good and pretty classy/NNP\n",
      "    /NNP\n",
      "    Not bad/NNP\n",
      "    /NNP\n",
      "    Damaged product received. Looks beautiful on the picture but in reality it’s looks old and damaged and there’s no good polish over the product . Golden hoops are almost rusty which looks very poor. Packaging was okay but as soon as I opened the pack the damaged hoop pop out . Quality is zero. Advised to not purchase/NNP\n",
      "    /NNP\n",
      "    It is all plastic and break easily even the hooka are of plastic not value of money from my perspective/NNP\n",
      "    /NNP\n",
      "    Nice studs/NNP\n",
      "    /NNP\n",
      "    Not as I expected. All the studs are tiny and quick to loose color with one wear./NNP\n",
      "    /NNP\n",
      "    Exactly as shown. The studs were small but exactly as shown in the pic./NNP\n",
      "    /NNP\n",
      "    Made up of plastic. Easily broken up. Even I put request for returning after 10 days not any kind of information available for picking up product. Totally disappointed/NNP\n",
      "    /NNP\n",
      "    Worth for money. Nice product./NNP\n",
      "    /NNP\n",
      "    Like it. Highly recommend for kids who love to wear earrings matching to dresses./NNP\n",
      "    /NNP\n",
      "    Looking good but colour is not long lasting/NNP\n",
      "    /NNP\n",
      "    Its good bt different designs should keep,silver and golden looks same there is no difference only/NNP\n",
      "    /NNP\n",
      "    Its the worst quality of earrings. Unless its for a one time use for a group of kidsdon't even think of this thing lasting even for a week. Changed colour on wearing it once/NNP\n",
      "    /NNP\n",
      "    It was awesome. Very good quality, perfect finish. But same patterns repeated in both silver and golden. It would be double happy if both had different designs./NNP\n",
      "    /NNP\n",
      "    It looks expensive but I got at cheaper rate.The earrings are worth more than the mention prices./NNP\n",
      "    /NNP\n",
      "    The earrings look really pretty. They are light weight too. Although there's a repetition of a particular colour (bluish-green) the variations make up for it. But the earring stoppers are really small, small I mean miniscule, so it's quite a task to wear it. But other than that I am very happy with the product as well as with the packaging./NNP\n",
      "    /NNP\n",
      "    Quality not good/NNP\n",
      "    /NNP\n",
      "    Good product... however the earings are loosely screwed/NNP\n",
      "    /NNP\n",
      "    The case was broken. Very low quality product/NNP\n",
      "    /NNP\n",
      "    Amazing!!/NNP\n",
      "    Shiny, lightweight, different types of shapes and sizes those cute little earrings./NNP\n",
      "    I love it./NNP\n",
      "    /NNP\n",
      "    I like it very much...value for money truely./NNP\n",
      "    /NNP\n",
      "    Loved the product overall would really recommend/NNP\n",
      "    /NNP\n",
      "    Few pairs are good and few are so fragile--one pair of ear ring was broken into pieces./NNP\n",
      "    /NNP\n",
      "    /NNP\n",
      "    /NNP\n",
      "    /NNP\n",
      "    /NNP\n",
      "    /NNP\n",
      "    /NNP\n",
      "    /NNP\n",
      "    /NNP\n",
      "    /NN))\n"
     ]
    }
   ],
   "source": [
    "from nltk import pos_tag\n",
    "from nltk import RegexpParser\n",
    "print(\"After Split:\",text)\n",
    "tokens_tag = pos_tag(text)\n",
    "print(\"After Token:\",tokens_tag)\n",
    "patterns= \"\"\"mychunk:{<NN.?>*<VBD.?>*<JJ.?>*<CC>?}\"\"\"\n",
    "chunker = RegexpParser(patterns)\n",
    "print(\"After Regex:\",chunker)\n",
    "output = chunker.parse(tokens_tag)\n",
    "print(\"After Chunking\",output)"
   ]
  },
  {
   "cell_type": "code",
   "execution_count": null,
   "metadata": {},
   "outputs": [],
   "source": []
  }
 ],
 "metadata": {
  "kernelspec": {
   "display_name": "Python 3.10.6 64-bit",
   "language": "python",
   "name": "python3"
  },
  "language_info": {
   "codemirror_mode": {
    "name": "ipython",
    "version": 3
   },
   "file_extension": ".py",
   "mimetype": "text/x-python",
   "name": "python",
   "nbconvert_exporter": "python",
   "pygments_lexer": "ipython3",
   "version": "3.10.6"
  },
  "orig_nbformat": 4,
  "vscode": {
   "interpreter": {
    "hash": "916dbcbb3f70747c44a77c7bcd40155683ae19c65e1c03b4aa3499c5328201f1"
   }
  }
 },
 "nbformat": 4,
 "nbformat_minor": 2
}

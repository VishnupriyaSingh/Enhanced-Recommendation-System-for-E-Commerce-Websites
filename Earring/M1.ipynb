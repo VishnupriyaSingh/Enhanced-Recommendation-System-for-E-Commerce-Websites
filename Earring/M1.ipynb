{
 "cells": [
  {
   "cell_type": "code",
   "execution_count": 1,
   "metadata": {},
   "outputs": [
    {
     "name": "stderr",
     "output_type": "stream",
     "text": [
      "[nltk_data] Downloading package punkt to /home/anubhav08/nltk_data...\n",
      "[nltk_data]   Package punkt is already up-to-date!\n",
      "[nltk_data] Downloading package stopwords to\n",
      "[nltk_data]     /home/anubhav08/nltk_data...\n",
      "[nltk_data]   Package stopwords is already up-to-date!\n",
      "[nltk_data] Downloading package wordnet to\n",
      "[nltk_data]     /home/anubhav08/nltk_data...\n",
      "[nltk_data]   Package wordnet is already up-to-date!\n",
      "[nltk_data] Downloading package omw-1.4 to\n",
      "[nltk_data]     /home/anubhav08/nltk_data...\n",
      "[nltk_data]   Package omw-1.4 is already up-to-date!\n"
     ]
    }
   ],
   "source": [
    "import pandas as pd\n",
    "import numpy as np \n",
    "import nltk\n",
    "nltk.download('punkt')\n",
    "nltk.download('stopwords')\n",
    "nltk.download('wordnet')\n",
    "nltk.download('omw-1.4')\n",
    "from nltk.corpus import stopwords\n",
    "from nltk.tokenize import word_tokenize\n",
    "from nltk.stem import WordNetLemmatizer \n",
    "from nltk import ngrams\n",
    "from collections import Counter\n",
    "import seaborn as sns\n",
    "import matplotlib.pyplot as plt"
   ]
  },
  {
   "cell_type": "code",
   "execution_count": 2,
   "metadata": {},
   "outputs": [
    {
     "data": {
      "text/plain": [
       "title    object\n",
       "dtype: object"
      ]
     },
     "execution_count": 2,
     "metadata": {},
     "output_type": "execute_result"
    }
   ],
   "source": [
    "df = pd.read_csv('Text Reviews.csv')\n",
    "df.dtypes"
   ]
  },
  {
   "cell_type": "code",
   "execution_count": 3,
   "metadata": {},
   "outputs": [
    {
     "data": {
      "text/html": [
       "<div>\n",
       "<style scoped>\n",
       "    .dataframe tbody tr th:only-of-type {\n",
       "        vertical-align: middle;\n",
       "    }\n",
       "\n",
       "    .dataframe tbody tr th {\n",
       "        vertical-align: top;\n",
       "    }\n",
       "\n",
       "    .dataframe thead th {\n",
       "        text-align: right;\n",
       "    }\n",
       "</style>\n",
       "<table border=\"1\" class=\"dataframe\">\n",
       "  <thead>\n",
       "    <tr style=\"text-align: right;\">\n",
       "      <th></th>\n",
       "      <th>title</th>\n",
       "    </tr>\n",
       "  </thead>\n",
       "  <tbody>\n",
       "    <tr>\n",
       "      <th>0</th>\n",
       "      <td>It's very very beautiful. I loved all the desi...</td>\n",
       "    </tr>\n",
       "    <tr>\n",
       "      <th>1</th>\n",
       "      <td>Poor quality. One time used products</td>\n",
       "    </tr>\n",
       "    <tr>\n",
       "      <th>2</th>\n",
       "      <td>Poor quality product, seems fake, colour faded...</td>\n",
       "    </tr>\n",
       "    <tr>\n",
       "      <th>3</th>\n",
       "      <td>The studs look good and pretty classy</td>\n",
       "    </tr>\n",
       "    <tr>\n",
       "      <th>4</th>\n",
       "      <td>Poor quality product, seems fake, colour faded...</td>\n",
       "    </tr>\n",
       "    <tr>\n",
       "      <th>5</th>\n",
       "      <td>Not bad</td>\n",
       "    </tr>\n",
       "    <tr>\n",
       "      <th>6</th>\n",
       "      <td>Poor quality product, seems fake, colour faded...</td>\n",
       "    </tr>\n",
       "    <tr>\n",
       "      <th>7</th>\n",
       "      <td>Damaged product received. Looks beautiful on t...</td>\n",
       "    </tr>\n",
       "    <tr>\n",
       "      <th>8</th>\n",
       "      <td>Poor quality product, seems fake, colour faded...</td>\n",
       "    </tr>\n",
       "    <tr>\n",
       "      <th>9</th>\n",
       "      <td>It is all plastic and break easily even the ho...</td>\n",
       "    </tr>\n",
       "    <tr>\n",
       "      <th>10</th>\n",
       "      <td>Poor quality product, seems fake, colour faded...</td>\n",
       "    </tr>\n",
       "    <tr>\n",
       "      <th>11</th>\n",
       "      <td>Nice studs</td>\n",
       "    </tr>\n",
       "    <tr>\n",
       "      <th>12</th>\n",
       "      <td>Poor quality product, seems fake, colour faded...</td>\n",
       "    </tr>\n",
       "    <tr>\n",
       "      <th>13</th>\n",
       "      <td>Not as I expected. All the studs are tiny and ...</td>\n",
       "    </tr>\n",
       "    <tr>\n",
       "      <th>14</th>\n",
       "      <td>Poor quality product, seems fake, colour faded...</td>\n",
       "    </tr>\n",
       "    <tr>\n",
       "      <th>15</th>\n",
       "      <td>Exactly as shown. The studs were small but exa...</td>\n",
       "    </tr>\n",
       "    <tr>\n",
       "      <th>16</th>\n",
       "      <td>Poor quality product, seems fake, colour faded...</td>\n",
       "    </tr>\n",
       "    <tr>\n",
       "      <th>17</th>\n",
       "      <td>Made up of plastic. Easily broken up. Even I p...</td>\n",
       "    </tr>\n",
       "    <tr>\n",
       "      <th>18</th>\n",
       "      <td>Worth for money. Nice product.</td>\n",
       "    </tr>\n",
       "    <tr>\n",
       "      <th>19</th>\n",
       "      <td>Like it. Highly recommend for kids who love to...</td>\n",
       "    </tr>\n",
       "  </tbody>\n",
       "</table>\n",
       "</div>"
      ],
      "text/plain": [
       "                                                title\n",
       "0   It's very very beautiful. I loved all the desi...\n",
       "1                Poor quality. One time used products\n",
       "2   Poor quality product, seems fake, colour faded...\n",
       "3               The studs look good and pretty classy\n",
       "4   Poor quality product, seems fake, colour faded...\n",
       "5                                             Not bad\n",
       "6   Poor quality product, seems fake, colour faded...\n",
       "7   Damaged product received. Looks beautiful on t...\n",
       "8   Poor quality product, seems fake, colour faded...\n",
       "9   It is all plastic and break easily even the ho...\n",
       "10  Poor quality product, seems fake, colour faded...\n",
       "11                                         Nice studs\n",
       "12  Poor quality product, seems fake, colour faded...\n",
       "13  Not as I expected. All the studs are tiny and ...\n",
       "14  Poor quality product, seems fake, colour faded...\n",
       "15  Exactly as shown. The studs were small but exa...\n",
       "16  Poor quality product, seems fake, colour faded...\n",
       "17  Made up of plastic. Easily broken up. Even I p...\n",
       "18                     Worth for money. Nice product.\n",
       "19  Like it. Highly recommend for kids who love to..."
      ]
     },
     "execution_count": 3,
     "metadata": {},
     "output_type": "execute_result"
    }
   ],
   "source": [
    "df.head(20)"
   ]
  },
  {
   "cell_type": "code",
   "execution_count": 4,
   "metadata": {},
   "outputs": [
    {
     "name": "stdout",
     "output_type": "stream",
     "text": [
      "(35, 1)\n"
     ]
    }
   ],
   "source": [
    "print(df.shape)"
   ]
  },
  {
   "cell_type": "code",
   "execution_count": 5,
   "metadata": {},
   "outputs": [],
   "source": [
    "messages = \" \".join([str(i) for i in df['title']])\n",
    "words = word_tokenize(messages)"
   ]
  },
  {
   "cell_type": "code",
   "execution_count": 6,
   "metadata": {},
   "outputs": [
    {
     "data": {
      "text/plain": [
       "\"It's very very beautiful. I loved all the designs. Thank you so much Shining Diva Poor quality. One time used products Poor quality product, seems fake, colour faded away The studs look good and pretty classy Poor quality product, seems fake, colour faded away Not bad Poor quality product, seems fake, colour faded away Damaged product received. Looks beautiful on the picture but in reality it’s looks old and damaged and there’s no good polish over the product . Golden hoops are almost rusty which looks very poor. Packaging was okay but as soon as I opened the pack the damaged hoop pop out . Quality is zero. Advised to not purchase Poor quality product, seems fake, colour faded away It is all plastic and break easily even the hooka are of plastic not value of money from my perspective Poor quality product, seems fake, colour faded away Nice studs Poor quality product, seems fake, colour faded away Not as I expected. All the studs are tiny and quick to loose color with one wear. Poor quality product, seems fake, colour faded away Exactly as shown. The studs were small but exactly as shown in the pic. Poor quality product, seems fake, colour faded away Made up of plastic. Easily broken up. Even I put request for returning after 10 days not any kind of information available for picking up product. Totally disappointed Worth for money. Nice product. Like it. Highly recommend for kids who love to wear earrings matching to dresses. Looking good but colour is not long lasting Its good bt different designs should keep,silver and golden looks same there is no difference only Its the worst quality of earrings. Unless its for a one time use for a group of kidsdon't even think of this thing lasting even for a week. Changed colour on wearing it once It was awesome. Very good quality, perfect finish. But same patterns repeated in both silver and golden. It would be double happy if both had different designs. It looks expensive but I got at cheaper rate.The earrings are worth more than the mention prices. The earrings look really pretty. They are light weight too. Although there's a repetition of a particular colour (bluish-green) the variations make up for it. But the earring stoppers are really small, small I mean miniscule, so it's quite a task to wear it. But other than that I am very happy with the product as well as with the packaging. Quality not good Good product... however the earings are loosely screwed The case was broken. Very low quality product Amazing!! Shiny, lightweight, different types of shapes and sizes those cute little earrings. I love it. I like it very much...value for money truely. Loved the product overall would really recommend Few pairs are good and few are so fragile--one pair of ear ring was broken into pieces.\""
      ]
     },
     "execution_count": 6,
     "metadata": {},
     "output_type": "execute_result"
    }
   ],
   "source": [
    "messages"
   ]
  },
  {
   "cell_type": "code",
   "execution_count": 7,
   "metadata": {},
   "outputs": [],
   "source": [
    "def clean_words(new_tokens):\n",
    "    new_tokens = [t.lower() for t in new_tokens]\n",
    "    new_tokens =[t for t in new_tokens if t not in stopwords.words('english')]\n",
    "    new_tokens = [t for t in new_tokens if t.isalpha()]\n",
    "    lemmatizer = WordNetLemmatizer()\n",
    "    new_tokens =[lemmatizer.lemmatize(t) for t in new_tokens]\n",
    "    return new_tokens"
   ]
  },
  {
   "cell_type": "code",
   "execution_count": 8,
   "metadata": {},
   "outputs": [],
   "source": [
    "lowered = clean_words(words)"
   ]
  },
  {
   "cell_type": "code",
   "execution_count": 9,
   "metadata": {
    "scrolled": false
   },
   "outputs": [
    {
     "data": {
      "text/plain": [
       "Counter({'beautiful': 2,\n",
       "         'loved': 2,\n",
       "         'design': 3,\n",
       "         'thank': 1,\n",
       "         'much': 2,\n",
       "         'shining': 1,\n",
       "         'diva': 1,\n",
       "         'poor': 10,\n",
       "         'quality': 14,\n",
       "         'one': 4,\n",
       "         'time': 2,\n",
       "         'used': 1,\n",
       "         'product': 17,\n",
       "         'seems': 8,\n",
       "         'fake': 8,\n",
       "         'colour': 11,\n",
       "         'faded': 8,\n",
       "         'away': 8,\n",
       "         'stud': 4,\n",
       "         'look': 7,\n",
       "         'good': 8,\n",
       "         'pretty': 2,\n",
       "         'classy': 1,\n",
       "         'bad': 1,\n",
       "         'damaged': 3,\n",
       "         'received': 1,\n",
       "         'picture': 1,\n",
       "         'reality': 1,\n",
       "         'old': 1,\n",
       "         'polish': 1,\n",
       "         'golden': 3,\n",
       "         'hoop': 2,\n",
       "         'almost': 1,\n",
       "         'rusty': 1,\n",
       "         'packaging': 2,\n",
       "         'okay': 1,\n",
       "         'soon': 1,\n",
       "         'opened': 1,\n",
       "         'pack': 1,\n",
       "         'pop': 1,\n",
       "         'zero': 1,\n",
       "         'advised': 1,\n",
       "         'purchase': 1,\n",
       "         'plastic': 3,\n",
       "         'break': 1,\n",
       "         'easily': 2,\n",
       "         'even': 4,\n",
       "         'hooka': 1,\n",
       "         'value': 2,\n",
       "         'money': 3,\n",
       "         'perspective': 1,\n",
       "         'nice': 2,\n",
       "         'expected': 1,\n",
       "         'tiny': 1,\n",
       "         'quick': 1,\n",
       "         'loose': 1,\n",
       "         'color': 1,\n",
       "         'wear': 3,\n",
       "         'exactly': 2,\n",
       "         'shown': 2,\n",
       "         'small': 3,\n",
       "         'pic': 1,\n",
       "         'made': 1,\n",
       "         'broken': 3,\n",
       "         'put': 1,\n",
       "         'request': 1,\n",
       "         'returning': 1,\n",
       "         'day': 1,\n",
       "         'kind': 1,\n",
       "         'information': 1,\n",
       "         'available': 1,\n",
       "         'picking': 1,\n",
       "         'totally': 1,\n",
       "         'disappointed': 1,\n",
       "         'worth': 2,\n",
       "         'like': 2,\n",
       "         'highly': 1,\n",
       "         'recommend': 2,\n",
       "         'kid': 1,\n",
       "         'love': 2,\n",
       "         'earring': 6,\n",
       "         'matching': 1,\n",
       "         'dress': 1,\n",
       "         'looking': 1,\n",
       "         'long': 1,\n",
       "         'lasting': 2,\n",
       "         'bt': 1,\n",
       "         'different': 3,\n",
       "         'keep': 1,\n",
       "         'silver': 2,\n",
       "         'difference': 1,\n",
       "         'worst': 1,\n",
       "         'unless': 1,\n",
       "         'use': 1,\n",
       "         'group': 1,\n",
       "         'kidsdo': 1,\n",
       "         'think': 1,\n",
       "         'thing': 1,\n",
       "         'week': 1,\n",
       "         'changed': 1,\n",
       "         'wearing': 1,\n",
       "         'awesome': 1,\n",
       "         'perfect': 1,\n",
       "         'finish': 1,\n",
       "         'pattern': 1,\n",
       "         'repeated': 1,\n",
       "         'would': 2,\n",
       "         'double': 1,\n",
       "         'happy': 2,\n",
       "         'expensive': 1,\n",
       "         'got': 1,\n",
       "         'cheaper': 1,\n",
       "         'mention': 1,\n",
       "         'price': 1,\n",
       "         'really': 3,\n",
       "         'light': 1,\n",
       "         'weight': 1,\n",
       "         'although': 1,\n",
       "         'repetition': 1,\n",
       "         'particular': 1,\n",
       "         'variation': 1,\n",
       "         'make': 1,\n",
       "         'stopper': 1,\n",
       "         'mean': 1,\n",
       "         'miniscule': 1,\n",
       "         'quite': 1,\n",
       "         'task': 1,\n",
       "         'well': 1,\n",
       "         'however': 1,\n",
       "         'earings': 1,\n",
       "         'loosely': 1,\n",
       "         'screwed': 1,\n",
       "         'case': 1,\n",
       "         'low': 1,\n",
       "         'amazing': 1,\n",
       "         'shiny': 1,\n",
       "         'lightweight': 1,\n",
       "         'type': 1,\n",
       "         'shape': 1,\n",
       "         'size': 1,\n",
       "         'cute': 1,\n",
       "         'little': 1,\n",
       "         'truely': 1,\n",
       "         'overall': 1,\n",
       "         'pair': 2,\n",
       "         'fragile': 1,\n",
       "         'ear': 1,\n",
       "         'ring': 1,\n",
       "         'piece': 1})"
      ]
     },
     "execution_count": 9,
     "metadata": {},
     "output_type": "execute_result"
    }
   ],
   "source": [
    "bow = Counter(lowered)\n",
    "bow"
   ]
  },
  {
   "cell_type": "code",
   "execution_count": 10,
   "metadata": {},
   "outputs": [],
   "source": [
    "data = pd.DataFrame(bow.items(),columns=['word','frequency']).sort_values(by='frequency',ascending=False)"
   ]
  },
  {
   "cell_type": "code",
   "execution_count": 11,
   "metadata": {},
   "outputs": [],
   "source": [
    "data = data.head(10)"
   ]
  },
  {
   "cell_type": "code",
   "execution_count": 12,
   "metadata": {},
   "outputs": [
    {
     "data": {
      "text/plain": [
       "<AxesSubplot:xlabel='frequency', ylabel='word'>"
      ]
     },
     "execution_count": 12,
     "metadata": {},
     "output_type": "execute_result"
    },
    {
     "data": {
      "image/png": "[encoded data removed]",
      "text/plain": [
       "<Figure size 640x480 with 1 Axes>"
      ]
     },
     "metadata": {},
     "output_type": "display_data"
    }
   ],
   "source": [
    "sns.barplot(x='frequency',y='word',data=data)"
   ]
  },
  {
   "cell_type": "code",
   "execution_count": null,
   "metadata": {},
   "outputs": [],
   "source": []
  }
 ],
 "metadata": {
  "kernelspec": {
   "display_name": "Python 3 (ipykernel)",
   "language": "python",
   "name": "python3"
  },
  "language_info": {
   "codemirror_mode": {
    "name": "ipython",
    "version": 3
   },
   "file_extension": ".py",
   "mimetype": "text/x-python",
   "name": "python",
   "nbconvert_exporter": "python",
   "pygments_lexer": "ipython3",
   "version": "3.10.6"
  },
  "vscode": {
   "interpreter": {
    "hash": "916dbcbb3f70747c44a77c7bcd40155683ae19c65e1c03b4aa3499c5328201f1"
   }
  }
 },
 "nbformat": 4,
 "nbformat_minor": 2
}

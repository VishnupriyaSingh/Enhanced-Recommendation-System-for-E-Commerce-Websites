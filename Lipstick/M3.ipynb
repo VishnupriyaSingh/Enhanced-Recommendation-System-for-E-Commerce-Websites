{
 "cells": [
  {
   "cell_type": "code",
   "execution_count": 1,
   "metadata": {},
   "outputs": [
    {
     "name": "stderr",
     "output_type": "stream",
     "text": [
      "[nltk_data] Downloading package averaged_perceptron_tagger to\n",
      "[nltk_data]     /home/anubhav08/nltk_data...\n",
      "[nltk_data]   Package averaged_perceptron_tagger is already up-to-\n",
      "[nltk_data]       date!\n"
     ]
    }
   ],
   "source": [
    "import nltk\n",
    "nltk.download('averaged_perceptron_tagger')\n",
    "from nltk.corpus import state_union\n",
    "from nltk.tokenize import PunktSentenceTokenizer"
   ]
  },
  {
   "cell_type": "code",
   "execution_count": 2,
   "metadata": {},
   "outputs": [],
   "source": [
    "my_file = open(\"Text Reviews.txt\", \"r\")\n",
    "  \n",
    "# reading the file\n",
    "data = my_file.read()\n",
    "  \n",
    "# replacing end splitting the text \n",
    "# when newline ('\\n') is seen.\n",
    "text = data.split(\"\\n\")\n",
    "my_file.close()"
   ]
  },
  {
   "cell_type": "code",
   "execution_count": 3,
   "metadata": {},
   "outputs": [
    {
     "name": "stdout",
     "output_type": "stream",
     "text": [
      "After Split: [\"It's give me convenience carrying 5 different shades in a very compact way.I love the natural colour they offer\", '', \"The product is OK as it has different types of lipstick colours, but it won't last fro a long time.\", '', 'I needed nude shades that I can mix with darker', 'shades to come up with my own colours. I find', 'this pretty perfect for that purpose.', 'The Mocha brown is great as it is, as is the pink', 'nude. But I prefer to mix in other colours with th', '3 other shades. This colour palette might suit a', 'fairer complexion more as the shades are light,', 'but they are pretty.', \"If you're looking for smudge or transfer proof /\", 'long lasting lipstick, this product may not be', \"what you're looking for.\", \"I got 5 shades for 372 on a deal and I'm happy\", 'with Renee as well as Amazon. I plan to use the', 'product carefully, as constantly moving the lip colours around might damage the lipsticks.', '', 'Like the color and knowing that it is vegan.', 'However, this is the second time, that it broke. I', 'used it maybe 5 times and the top broke off. I do', 'not like the top braking off!!!', '', 'A great moisturizing, beautiful halal lipstick; with a ', 'natural tint! MashAllah!', '', \"Doesn't stay\", '', 'Dry Product', '', 'Like', '', 'Go for it!', '', 'Shade very different from what is seen on the', 'screen', '', \"It's a beautiful shade for Indian skintones. The\", 'texture is just perfect for summers, though I feel it', 'might feel a little dry on the lips during winters', '', 'Color is more orange than depicted in photo. I', \"won't use it but it is a quality lipstick.\", '', 'It broke but I still use it.love the color!', '', 'Reviewed in the United States * on 5 January 2022', 'Color is lovely but you need a base. It doesnt', 'spread evenly. Almost chalky', '', 'Very transferable, low pigmentation, more on', 'reddish side than brown', '', 'I am someone who touches my face a lot, only ', 'applies lipstick on rare occasions and know little', 'to zero about makeup. Because I do unknowingly', 'touch my face now and then, the lipstick was', 'easily found on my palm and fingers', '', 'Good quality', '', 'A bright pink color wid hint of red absolutely in', 'warm shade bt fragrance is not like normal it', 'smells like chemically bt when u recieve the', 'correct shade which u ordered u absolutely', 'satisfied wid this bt the cap is toooo tight bro!!', '', 'I recently bought this lipstck.', 'The shade is really good and exactly what l', 'expected. But a little bit concerned with the', 'quality of the item. However, overall a good', 'product at this price. So in this range, you can', 'buy it without a second thought.', '', 'Looks very pretty on lips.. Colour is very', 'beautiful..', \"It's very dry on lips you have to apply lip care\", 'before using it.. Not really long lasting..', '', 'Nice lipstick non-transferable ,long lasting and', 'smudge proof.', '', 'I think buying from online products like these is', 'kind of risky as we are not able to match it with', 'our skin tone. I was looking for a different shade.', 'Unfortunately it was not a match. Also, it says', \"matte but the product received didn't have a\", 'matte finish.', '', \"Loved the color payoff. However it's slightly\", \"drying and doesn't last too long. Great value for\", 'the price though.', '', 'However I got broken piece,but about product i', 'would say this is best in this price,very creamy', 'and smooth application.very pigmented,dark purplish wine shade,good unique shade.', '', 'Price r high &tiny size but lipstick r chemical free&vegan,nice colour...', '']\n",
      "After Token: [(\"It's give me convenience carrying 5 different shades in a very compact way.I love the natural colour they offer\", 'NNP'), ('', 'NNP'), (\"The product is OK as it has different types of lipstick colours, but it won't last fro a long time.\", 'NNP'), ('', 'NNP'), ('I needed nude shades that I can mix with darker', 'NNP'), ('shades to come up with my own colours. I find', 'NN'), ('this pretty perfect for that purpose.', 'NN'), ('The Mocha brown is great as it is, as is the pink', 'NNP'), ('nude. But I prefer to mix in other colours with th', 'VBZ'), ('3 other shades. This colour palette might suit a', 'CD'), ('fairer complexion more as the shades are light,', 'NN'), ('but they are pretty.', 'NN'), (\"If you're looking for smudge or transfer proof /\", 'NNP'), ('long lasting lipstick, this product may not be', 'VBZ'), (\"what you're looking for.\", 'WRB'), (\"I got 5 shades for 372 on a deal and I'm happy\", 'NNP'), ('with Renee as well as Amazon. I plan to use the', 'NN'), ('product carefully, as constantly moving the lip colours around might damage the lipsticks.', 'NN'), ('', 'NNP'), ('Like the color and knowing that it is vegan.', 'NNP'), ('However, this is the second time, that it broke. I', 'NNP'), ('used it maybe 5 times and the top broke off. I do', 'JJ'), ('not like the top braking off!!!', 'NN'), ('', 'NNP'), ('A great moisturizing, beautiful halal lipstick; with a ', 'NNP'), ('natural tint! MashAllah!', 'MD'), ('', 'VB'), (\"Doesn't stay\", 'NNP'), ('', 'NNP'), ('Dry Product', 'NNP'), ('', 'NNP'), ('Like', 'IN'), ('', 'NNP'), ('Go for it!', 'NNP'), ('', 'NNP'), ('Shade very different from what is seen on the', 'NNP'), ('screen', 'NN'), ('', 'NNP'), (\"It's a beautiful shade for Indian skintones. The\", 'NNP'), ('texture is just perfect for summers, though I feel it', 'NN'), ('might feel a little dry on the lips during winters', 'NNS'), ('', 'VBP'), ('Color is more orange than depicted in photo. I', 'NNP'), (\"won't use it but it is a quality lipstick.\", 'NN'), ('', 'NNP'), ('It broke but I still use it.love the color!', 'NNP'), ('', 'NNP'), ('Reviewed in the United States * on 5 January 2022', 'NNP'), ('Color is lovely but you need a base. It doesnt', 'NNP'), ('spread evenly. Almost chalky', 'VBD'), ('', 'NNP'), ('Very transferable, low pigmentation, more on', 'NNP'), ('reddish side than brown', 'JJ'), ('', 'NNP'), ('I am someone who touches my face a lot, only ', 'NNP'), ('applies lipstick on rare occasions and know little', 'RB'), ('to zero about makeup. Because I do unknowingly', 'RB'), ('touch my face now and then, the lipstick was', 'JJ'), ('easily found on my palm and fingers', 'NNS'), ('', 'VBP'), ('Good quality', 'NNP'), ('', 'NNP'), ('A bright pink color wid hint of red absolutely in', 'NNP'), ('warm shade bt fragrance is not like normal it', 'VBD'), ('smells like chemically bt when u recieve the', 'RBR'), ('correct shade which u ordered u absolutely', 'RB'), ('satisfied wid this bt the cap is toooo tight bro!!', 'JJ'), ('', 'NNP'), ('I recently bought this lipstck.', 'NNP'), ('The shade is really good and exactly what l', 'NNP'), ('expected. But a little bit concerned with the', 'VBD'), ('quality of the item. However, overall a good', 'JJ'), ('product at this price. So in this range, you can', 'JJ'), ('buy it without a second thought.', 'NN'), ('', 'NNP'), ('Looks very pretty on lips.. Colour is very', 'NNP'), ('beautiful..', 'NN'), (\"It's very dry on lips you have to apply lip care\", 'NNP'), ('before using it.. Not really long lasting..', 'VBZ'), ('', 'JJ'), ('Nice lipstick non-transferable ,long lasting and', 'NNP'), ('smudge proof.', 'NN'), ('', 'NNP'), ('I think buying from online products like these is', 'NNP'), ('kind of risky as we are not able to match it with', 'NNP'), ('our skin tone. I was looking for a different shade.', 'NN'), ('Unfortunately it was not a match. Also, it says', 'NNP'), (\"matte but the product received didn't have a\", 'NN'), ('matte finish.', 'NN'), ('', 'NNP'), (\"Loved the color payoff. However it's slightly\", 'NNP'), (\"drying and doesn't last too long. Great value for\", 'VBZ'), ('the price though.', 'JJ'), ('', 'NNP'), ('However I got broken piece,but about product i', 'NNP'), ('would say this is best in this price,very creamy', 'VBD'), ('and smooth application.very pigmented,dark purplish wine shade,good unique shade.', 'JJ'), ('', 'NNP'), ('Price r high &tiny size but lipstick r chemical free&vegan,nice colour...', 'NNP'), ('', 'NN')]\n",
      "After Regex: chunk.RegexpParser with 1 stages:\n",
      "RegexpChunkParser with 1 rules:\n",
      "       <ChunkRule: '<NN.?>*<VBD.?>*<JJ.?>*<CC>?'>\n",
      "After Chunking (S\n",
      "  (mychunk\n",
      "    It's give me convenience carrying 5 different shades in a very compact way.I love the natural colour they offer/NNP\n",
      "    /NNP\n",
      "    The product is OK as it has different types of lipstick colours, but it won't last fro a long time./NNP\n",
      "    /NNP\n",
      "    I needed nude shades that I can mix with darker/NNP\n",
      "    shades to come up with my own colours. I find/NN\n",
      "    this pretty perfect for that purpose./NN\n",
      "    The Mocha brown is great as it is, as is the pink/NNP)\n",
      "  nude. But I prefer to mix in other colours with th/VBZ\n",
      "  3 other shades. This colour palette might suit a/CD\n",
      "  (mychunk\n",
      "    fairer complexion more as the shades are light,/NN\n",
      "    but they are pretty./NN\n",
      "    If you're looking for smudge or transfer proof //NNP)\n",
      "  long lasting lipstick, this product may not be/VBZ\n",
      "  what you're looking for./WRB\n",
      "  (mychunk\n",
      "    I got 5 shades for 372 on a deal and I'm happy/NNP\n",
      "    with Renee as well as Amazon. I plan to use the/NN\n",
      "    product carefully, as constantly moving the lip colours around might damage the lipsticks./NN\n",
      "    /NNP\n",
      "    Like the color and knowing that it is vegan./NNP\n",
      "    However, this is the second time, that it broke. I/NNP\n",
      "    used it maybe 5 times and the top broke off. I do/JJ)\n",
      "  (mychunk\n",
      "    not like the top braking off!!!/NN\n",
      "    /NNP\n",
      "    A great moisturizing, beautiful halal lipstick; with a /NNP)\n",
      "  natural tint! MashAllah!/MD\n",
      "  /VB\n",
      "  (mychunk Doesn't stay/NNP /NNP Dry Product/NNP /NNP)\n",
      "  Like/IN\n",
      "  (mychunk\n",
      "    /NNP\n",
      "    Go for it!/NNP\n",
      "    /NNP\n",
      "    Shade very different from what is seen on the/NNP\n",
      "    screen/NN\n",
      "    /NNP\n",
      "    It's a beautiful shade for Indian skintones. The/NNP\n",
      "    texture is just perfect for summers, though I feel it/NN\n",
      "    might feel a little dry on the lips during winters/NNS)\n",
      "  /VBP\n",
      "  (mychunk\n",
      "    Color is more orange than depicted in photo. I/NNP\n",
      "    won't use it but it is a quality lipstick./NN\n",
      "    /NNP\n",
      "    It broke but I still use it.love the color!/NNP\n",
      "    /NNP\n",
      "    Reviewed in the United States * on 5 January 2022/NNP\n",
      "    Color is lovely but you need a base. It doesnt/NNP\n",
      "    spread evenly. Almost chalky/VBD)\n",
      "  (mychunk\n",
      "    /NNP\n",
      "    Very transferable, low pigmentation, more on/NNP\n",
      "    reddish side than brown/JJ)\n",
      "  (mychunk /NNP I am someone who touches my face a lot, only /NNP)\n",
      "  applies lipstick on rare occasions and know little/RB\n",
      "  to zero about makeup. Because I do unknowingly/RB\n",
      "  (mychunk touch my face now and then, the lipstick was/JJ)\n",
      "  (mychunk easily found on my palm and fingers/NNS)\n",
      "  /VBP\n",
      "  (mychunk\n",
      "    Good quality/NNP\n",
      "    /NNP\n",
      "    A bright pink color wid hint of red absolutely in/NNP\n",
      "    warm shade bt fragrance is not like normal it/VBD)\n",
      "  smells like chemically bt when u recieve the/RBR\n",
      "  correct shade which u ordered u absolutely/RB\n",
      "  (mychunk satisfied wid this bt the cap is toooo tight bro!!/JJ)\n",
      "  (mychunk\n",
      "    /NNP\n",
      "    I recently bought this lipstck./NNP\n",
      "    The shade is really good and exactly what l/NNP\n",
      "    expected. But a little bit concerned with the/VBD\n",
      "    quality of the item. However, overall a good/JJ\n",
      "    product at this price. So in this range, you can/JJ)\n",
      "  (mychunk\n",
      "    buy it without a second thought./NN\n",
      "    /NNP\n",
      "    Looks very pretty on lips.. Colour is very/NNP\n",
      "    beautiful../NN\n",
      "    It's very dry on lips you have to apply lip care/NNP)\n",
      "  before using it.. Not really long lasting../VBZ\n",
      "  (mychunk /JJ)\n",
      "  (mychunk\n",
      "    Nice lipstick non-transferable ,long lasting and/NNP\n",
      "    smudge proof./NN\n",
      "    /NNP\n",
      "    I think buying from online products like these is/NNP\n",
      "    kind of risky as we are not able to match it with/NNP\n",
      "    our skin tone. I was looking for a different shade./NN\n",
      "    Unfortunately it was not a match. Also, it says/NNP\n",
      "    matte but the product received didn't have a/NN\n",
      "    matte finish./NN\n",
      "    /NNP\n",
      "    Loved the color payoff. However it's slightly/NNP)\n",
      "  drying and doesn't last too long. Great value for/VBZ\n",
      "  (mychunk the price though./JJ)\n",
      "  (mychunk\n",
      "    /NNP\n",
      "    However I got broken piece,but about product i/NNP\n",
      "    would say this is best in this price,very creamy/VBD\n",
      "    and smooth application.very pigmented,dark purplish wine shade,good unique shade./JJ)\n",
      "  (mychunk\n",
      "    /NNP\n",
      "    Price r high &tiny size but lipstick r chemical free&vegan,nice colour.../NNP\n",
      "    /NN))\n"
     ]
    }
   ],
   "source": [
    "from nltk import pos_tag\n",
    "from nltk import RegexpParser\n",
    "print(\"After Split:\",text)\n",
    "tokens_tag = pos_tag(text)\n",
    "print(\"After Token:\",tokens_tag)\n",
    "patterns= \"\"\"mychunk:{<NN.?>*<VBD.?>*<JJ.?>*<CC>?}\"\"\"\n",
    "chunker = RegexpParser(patterns)\n",
    "print(\"After Regex:\",chunker)\n",
    "output = chunker.parse(tokens_tag)\n",
    "print(\"After Chunking\",output)"
   ]
  },
  {
   "cell_type": "code",
   "execution_count": null,
   "metadata": {},
   "outputs": [],
   "source": []
  }
 ],
 "metadata": {
  "kernelspec": {
   "display_name": "Python 3.10.6 64-bit",
   "language": "python",
   "name": "python3"
  },
  "language_info": {
   "codemirror_mode": {
    "name": "ipython",
    "version": 3
   },
   "file_extension": ".py",
   "mimetype": "text/x-python",
   "name": "python",
   "nbconvert_exporter": "python",
   "pygments_lexer": "ipython3",
   "version": "3.10.6"
  },
  "orig_nbformat": 4,
  "vscode": {
   "interpreter": {
    "hash": "916dbcbb3f70747c44a77c7bcd40155683ae19c65e1c03b4aa3499c5328201f1"
   }
  }
 },
 "nbformat": 4,
 "nbformat_minor": 2
}

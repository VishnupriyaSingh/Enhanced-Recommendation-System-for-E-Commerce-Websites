{
 "cells": [
  {
   "cell_type": "code",
   "execution_count": 1,
   "metadata": {},
   "outputs": [
    {
     "name": "stderr",
     "output_type": "stream",
     "text": [
      "[nltk_data] Downloading package punkt to /home/anubhav08/nltk_data...\n",
      "[nltk_data]   Package punkt is already up-to-date!\n",
      "[nltk_data] Downloading package stopwords to\n",
      "[nltk_data]     /home/anubhav08/nltk_data...\n",
      "[nltk_data]   Package stopwords is already up-to-date!\n",
      "[nltk_data] Downloading package wordnet to\n",
      "[nltk_data]     /home/anubhav08/nltk_data...\n",
      "[nltk_data]   Package wordnet is already up-to-date!\n",
      "[nltk_data] Downloading package omw-1.4 to\n",
      "[nltk_data]     /home/anubhav08/nltk_data...\n",
      "[nltk_data]   Package omw-1.4 is already up-to-date!\n"
     ]
    }
   ],
   "source": [
    "import pandas as pd\n",
    "import numpy as np \n",
    "import nltk\n",
    "nltk.download('punkt')\n",
    "nltk.download('stopwords')\n",
    "nltk.download('wordnet')\n",
    "nltk.download('omw-1.4')\n",
    "from nltk.corpus import stopwords\n",
    "from nltk.tokenize import word_tokenize\n",
    "from nltk.stem import WordNetLemmatizer \n",
    "from nltk import ngrams\n",
    "from collections import Counter\n",
    "import seaborn as sns\n",
    "import matplotlib.pyplot as plt"
   ]
  },
  {
   "cell_type": "code",
   "execution_count": 2,
   "metadata": {},
   "outputs": [
    {
     "data": {
      "text/plain": [
       "title    object\n",
       "dtype: object"
      ]
     },
     "execution_count": 2,
     "metadata": {},
     "output_type": "execute_result"
    }
   ],
   "source": [
    "df = pd.read_csv('Text Reviews.csv')\n",
    "df.dtypes"
   ]
  },
  {
   "cell_type": "code",
   "execution_count": 3,
   "metadata": {},
   "outputs": [
    {
     "name": "stdout",
     "output_type": "stream",
     "text": [
      "(75, 1)\n"
     ]
    }
   ],
   "source": [
    "print(df.shape)"
   ]
  },
  {
   "cell_type": "code",
   "execution_count": 4,
   "metadata": {},
   "outputs": [],
   "source": [
    "messages = \" \".join([str(i) for i in df['title']])\n",
    "words = word_tokenize(messages)"
   ]
  },
  {
   "cell_type": "code",
   "execution_count": 5,
   "metadata": {},
   "outputs": [
    {
     "data": {
      "text/plain": [
       "\"It's give me convenience carrying 5 different shades in a very compact way.I love the natural colour they offer The product is OK as it has different types of lipstick colours, but it won't last fro a long time. I needed nude shades that I can mix with darker shades to come up with my own colours. I find this pretty perfect for that purpose. The Mocha brown is great as it is, as is the pink nude. But I prefer to mix in other colours with th 3 other shades. This colour palette might suit a fairer complexion more as the shades are light, but they are pretty. If you're looking for smudge or transfer proof / long lasting lipstick, this product may not be what you're looking for. I got 5 shades for 372 on a deal and I'm happy with Renee as well as Amazon. I plan to use the product carefully, as constantly moving the lip colours around might damage the lipsticks. Like the color and knowing that it is vegan. However, this is the second time, that it broke. I used it maybe 5 times and the top broke off. I do not like the top braking off!!! A great moisturizing, beautiful halal lipstick; with a  natural tint! MashAllah! Doesn't stay Dry Product Like Go for it! Shade very different from what is seen on the screen It's a beautiful shade for Indian skintones. The texture is just perfect for summers, though I feel it might feel a little dry on the lips during winters Color is more orange than depicted in photo. I won't use it but it is a quality lipstick. It broke but I still use it.love the color! Reviewed in the United States * on 5 January 2022 Color is lovely but you need a base. It doesnt spread evenly. Almost chalky Very transferable, low pigmentation, more on reddish side than brown I am someone who touches my face a lot, only  applies lipstick on rare occasions and know little to zero about makeup. Because I do unknowingly touch my face now and then, the lipstick was easily found on my palm and fingers Good quality A bright pink color wid hint of red absolutely in warm shade bt fragrance is not like normal it smells like chemically bt when u recieve the correct shade which u ordered u absolutely satisfied wid this bt the cap is toooo tight bro!! I recently bought this lipstck. The shade is really good and exactly what l expected. But a little bit concerned with the quality of the item. However, overall a good product at this price. So in this range, you can buy it without a second thought. Looks very pretty on lips.. Colour is very beautiful.. It's very dry on lips you have to apply lip care before using it.. Not really long lasting.. Nice lipstick non-transferable ,long lasting and smudge proof. I think buying from online products like these is kind of risky as we are not able to match it with our skin tone. I was looking for a different shade. Unfortunately it was not a match. Also, it says matte but the product received didn't have a matte finish. Loved the color payoff. However it's slightly drying and doesn't last too long. Great value for the price though. However I got broken piece,but about product i would say this is best in this price,very creamy and smooth application.very pigmented,dark purplish wine shade,good unique shade. Price r high &tiny size but lipstick r chemical free&vegan,nice colour...\""
      ]
     },
     "execution_count": 5,
     "metadata": {},
     "output_type": "execute_result"
    }
   ],
   "source": [
    "messages"
   ]
  },
  {
   "cell_type": "code",
   "execution_count": 6,
   "metadata": {},
   "outputs": [],
   "source": [
    "def clean_words(new_tokens):\n",
    "    new_tokens = [t.lower() for t in new_tokens]\n",
    "    new_tokens =[t for t in new_tokens if t not in stopwords.words('english')]\n",
    "    new_tokens = [t for t in new_tokens if t.isalpha()]\n",
    "    lemmatizer = WordNetLemmatizer()\n",
    "    new_tokens =[lemmatizer.lemmatize(t) for t in new_tokens]\n",
    "    return new_tokens"
   ]
  },
  {
   "cell_type": "code",
   "execution_count": 7,
   "metadata": {},
   "outputs": [],
   "source": [
    "lowered = clean_words(words)"
   ]
  },
  {
   "cell_type": "code",
   "execution_count": 8,
   "metadata": {},
   "outputs": [
    {
     "data": {
      "text/plain": [
       "Counter({'give': 1,\n",
       "         'convenience': 1,\n",
       "         'carrying': 1,\n",
       "         'different': 4,\n",
       "         'shade': 14,\n",
       "         'compact': 1,\n",
       "         'love': 1,\n",
       "         'natural': 2,\n",
       "         'colour': 8,\n",
       "         'offer': 1,\n",
       "         'product': 8,\n",
       "         'ok': 1,\n",
       "         'type': 1,\n",
       "         'lipstick': 9,\n",
       "         'wo': 2,\n",
       "         'last': 2,\n",
       "         'fro': 1,\n",
       "         'long': 5,\n",
       "         'time': 3,\n",
       "         'needed': 1,\n",
       "         'nude': 2,\n",
       "         'mix': 2,\n",
       "         'darker': 1,\n",
       "         'come': 1,\n",
       "         'find': 1,\n",
       "         'pretty': 3,\n",
       "         'perfect': 2,\n",
       "         'purpose': 1,\n",
       "         'mocha': 1,\n",
       "         'brown': 2,\n",
       "         'great': 3,\n",
       "         'pink': 2,\n",
       "         'prefer': 1,\n",
       "         'th': 1,\n",
       "         'palette': 1,\n",
       "         'might': 3,\n",
       "         'suit': 1,\n",
       "         'fairer': 1,\n",
       "         'complexion': 1,\n",
       "         'light': 1,\n",
       "         'looking': 3,\n",
       "         'smudge': 2,\n",
       "         'transfer': 1,\n",
       "         'proof': 2,\n",
       "         'lasting': 3,\n",
       "         'may': 1,\n",
       "         'got': 2,\n",
       "         'deal': 1,\n",
       "         'happy': 1,\n",
       "         'renee': 1,\n",
       "         'well': 1,\n",
       "         'amazon': 1,\n",
       "         'plan': 1,\n",
       "         'use': 3,\n",
       "         'carefully': 1,\n",
       "         'constantly': 1,\n",
       "         'moving': 1,\n",
       "         'lip': 5,\n",
       "         'around': 1,\n",
       "         'damage': 1,\n",
       "         'like': 6,\n",
       "         'color': 6,\n",
       "         'knowing': 1,\n",
       "         'vegan': 2,\n",
       "         'however': 4,\n",
       "         'second': 2,\n",
       "         'broke': 3,\n",
       "         'used': 1,\n",
       "         'maybe': 1,\n",
       "         'top': 2,\n",
       "         'braking': 1,\n",
       "         'moisturizing': 1,\n",
       "         'beautiful': 3,\n",
       "         'halal': 1,\n",
       "         'tint': 1,\n",
       "         'mashallah': 1,\n",
       "         'stay': 1,\n",
       "         'dry': 3,\n",
       "         'go': 1,\n",
       "         'seen': 1,\n",
       "         'screen': 1,\n",
       "         'indian': 1,\n",
       "         'skintones': 1,\n",
       "         'texture': 1,\n",
       "         'summer': 1,\n",
       "         'though': 2,\n",
       "         'feel': 2,\n",
       "         'little': 3,\n",
       "         'winter': 1,\n",
       "         'orange': 1,\n",
       "         'depicted': 1,\n",
       "         'photo': 1,\n",
       "         'quality': 3,\n",
       "         'still': 1,\n",
       "         'reviewed': 1,\n",
       "         'united': 1,\n",
       "         'state': 1,\n",
       "         'january': 1,\n",
       "         'lovely': 1,\n",
       "         'need': 1,\n",
       "         'base': 1,\n",
       "         'doesnt': 1,\n",
       "         'spread': 1,\n",
       "         'evenly': 1,\n",
       "         'almost': 1,\n",
       "         'chalky': 1,\n",
       "         'transferable': 1,\n",
       "         'low': 1,\n",
       "         'pigmentation': 1,\n",
       "         'reddish': 1,\n",
       "         'side': 1,\n",
       "         'someone': 1,\n",
       "         'touch': 2,\n",
       "         'face': 2,\n",
       "         'lot': 1,\n",
       "         'applies': 1,\n",
       "         'rare': 1,\n",
       "         'occasion': 1,\n",
       "         'know': 1,\n",
       "         'zero': 1,\n",
       "         'makeup': 1,\n",
       "         'unknowingly': 1,\n",
       "         'easily': 1,\n",
       "         'found': 1,\n",
       "         'palm': 1,\n",
       "         'finger': 1,\n",
       "         'good': 4,\n",
       "         'bright': 1,\n",
       "         'wid': 2,\n",
       "         'hint': 1,\n",
       "         'red': 1,\n",
       "         'absolutely': 2,\n",
       "         'warm': 1,\n",
       "         'bt': 3,\n",
       "         'fragrance': 1,\n",
       "         'normal': 1,\n",
       "         'smell': 1,\n",
       "         'chemically': 1,\n",
       "         'u': 3,\n",
       "         'recieve': 1,\n",
       "         'correct': 1,\n",
       "         'ordered': 1,\n",
       "         'satisfied': 1,\n",
       "         'cap': 1,\n",
       "         'toooo': 1,\n",
       "         'tight': 1,\n",
       "         'bro': 1,\n",
       "         'recently': 1,\n",
       "         'bought': 1,\n",
       "         'lipstck': 1,\n",
       "         'really': 2,\n",
       "         'exactly': 1,\n",
       "         'l': 1,\n",
       "         'expected': 1,\n",
       "         'bit': 1,\n",
       "         'concerned': 1,\n",
       "         'item': 1,\n",
       "         'overall': 1,\n",
       "         'price': 4,\n",
       "         'range': 1,\n",
       "         'buy': 1,\n",
       "         'without': 1,\n",
       "         'thought': 1,\n",
       "         'look': 1,\n",
       "         'apply': 1,\n",
       "         'care': 1,\n",
       "         'using': 1,\n",
       "         'nice': 2,\n",
       "         'think': 1,\n",
       "         'buying': 1,\n",
       "         'online': 1,\n",
       "         'kind': 1,\n",
       "         'risky': 1,\n",
       "         'able': 1,\n",
       "         'match': 2,\n",
       "         'skin': 1,\n",
       "         'tone': 1,\n",
       "         'unfortunately': 1,\n",
       "         'also': 1,\n",
       "         'say': 2,\n",
       "         'matte': 2,\n",
       "         'received': 1,\n",
       "         'finish': 1,\n",
       "         'loved': 1,\n",
       "         'payoff': 1,\n",
       "         'slightly': 1,\n",
       "         'drying': 1,\n",
       "         'value': 1,\n",
       "         'broken': 1,\n",
       "         'piece': 1,\n",
       "         'would': 1,\n",
       "         'best': 1,\n",
       "         'creamy': 1,\n",
       "         'smooth': 1,\n",
       "         'pigmented': 1,\n",
       "         'dark': 1,\n",
       "         'purplish': 1,\n",
       "         'wine': 1,\n",
       "         'unique': 1,\n",
       "         'r': 2,\n",
       "         'high': 1,\n",
       "         'tiny': 1,\n",
       "         'size': 1,\n",
       "         'chemical': 1,\n",
       "         'free': 1})"
      ]
     },
     "execution_count": 8,
     "metadata": {},
     "output_type": "execute_result"
    }
   ],
   "source": [
    "bow = Counter(lowered)\n",
    "bow"
   ]
  },
  {
   "cell_type": "code",
   "execution_count": 9,
   "metadata": {},
   "outputs": [],
   "source": [
    "data = pd.DataFrame(bow.items(),columns=['word','frequency']).sort_values(by='frequency',ascending=False)"
   ]
  },
  {
   "cell_type": "code",
   "execution_count": 10,
   "metadata": {},
   "outputs": [],
   "source": [
    "data = data.head(10)"
   ]
  },
  {
   "cell_type": "code",
   "execution_count": 11,
   "metadata": {},
   "outputs": [
    {
     "data": {
      "text/plain": [
       "<AxesSubplot:xlabel='frequency', ylabel='word'>"
      ]
     },
     "execution_count": 11,
     "metadata": {},
     "output_type": "execute_result"
    },
    {
     "data": {
      "image/png": "[encoded data removed]",
      "text/plain": [
       "<Figure size 640x480 with 1 Axes>"
      ]
     },
     "metadata": {},
     "output_type": "display_data"
    }
   ],
   "source": [
    "sns.barplot(x='frequency',y='word',data=data)"
   ]
  },
  {
   "cell_type": "code",
   "execution_count": null,
   "metadata": {},
   "outputs": [],
   "source": []
  }
 ],
 "metadata": {
  "kernelspec": {
   "display_name": "Python 3.10.6 64-bit",
   "language": "python",
   "name": "python3"
  },
  "language_info": {
   "codemirror_mode": {
    "name": "ipython",
    "version": 3
   },
   "file_extension": ".py",
   "mimetype": "text/x-python",
   "name": "python",
   "nbconvert_exporter": "python",
   "pygments_lexer": "ipython3",
   "version": "3.10.6"
  },
  "orig_nbformat": 4,
  "vscode": {
   "interpreter": {
    "hash": "916dbcbb3f70747c44a77c7bcd40155683ae19c65e1c03b4aa3499c5328201f1"
   }
  }
 },
 "nbformat": 4,
 "nbformat_minor": 2
}

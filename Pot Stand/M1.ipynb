{
 "cells": [
  {
   "cell_type": "code",
   "execution_count": 1,
   "metadata": {},
   "outputs": [
    {
     "name": "stderr",
     "output_type": "stream",
     "text": [
      "[nltk_data] Downloading package punkt to /home/anubhav08/nltk_data...\n",
      "[nltk_data]   Package punkt is already up-to-date!\n",
      "[nltk_data] Downloading package stopwords to\n",
      "[nltk_data]     /home/anubhav08/nltk_data...\n",
      "[nltk_data]   Package stopwords is already up-to-date!\n",
      "[nltk_data] Downloading package wordnet to\n",
      "[nltk_data]     /home/anubhav08/nltk_data...\n",
      "[nltk_data]   Package wordnet is already up-to-date!\n",
      "[nltk_data] Downloading package omw-1.4 to\n",
      "[nltk_data]     /home/anubhav08/nltk_data...\n",
      "[nltk_data]   Package omw-1.4 is already up-to-date!\n"
     ]
    }
   ],
   "source": [
    "import pandas as pd\n",
    "import numpy as np \n",
    "import nltk\n",
    "nltk.download('punkt')\n",
    "nltk.download('stopwords')\n",
    "nltk.download('wordnet')\n",
    "nltk.download('omw-1.4')\n",
    "from nltk.corpus import stopwords\n",
    "from nltk.tokenize import word_tokenize\n",
    "from nltk.stem import WordNetLemmatizer \n",
    "from nltk import ngrams\n",
    "from collections import Counter\n",
    "import seaborn as sns\n",
    "import matplotlib.pyplot as plt"
   ]
  },
  {
   "cell_type": "code",
   "execution_count": 2,
   "metadata": {},
   "outputs": [
    {
     "data": {
      "text/plain": [
       "title    object\n",
       "dtype: object"
      ]
     },
     "execution_count": 2,
     "metadata": {},
     "output_type": "execute_result"
    }
   ],
   "source": [
    "df = pd.read_csv('Text Reviews.csv')\n",
    "df.dtypes"
   ]
  },
  {
   "cell_type": "code",
   "execution_count": 3,
   "metadata": {},
   "outputs": [
    {
     "name": "stdout",
     "output_type": "stream",
     "text": [
      "(29, 1)\n"
     ]
    }
   ],
   "source": [
    "print(df.shape)"
   ]
  },
  {
   "cell_type": "code",
   "execution_count": 4,
   "metadata": {},
   "outputs": [],
   "source": [
    "messages = \" \".join([str(i) for i in df['title']])\n",
    "words = word_tokenize(messages)"
   ]
  },
  {
   "cell_type": "code",
   "execution_count": 5,
   "metadata": {},
   "outputs": [
    {
     "data": {
      "text/plain": [
       "\"Feeling better to put our plants pot on it. Terrace luk classy nd clean Very bad stuff.. 3rd class quality Used it for placing potted plants arranged in a nice manner.. Six big sized pots . Thaaàaaank you... Overall good but stand is not stable as well as wire not attached with stand All and all ok product for the price Very nice good....but edges are not finished cutting... Sharpen also...any way product was good quality... Good and durable Joint welding is very good Cannot put big pots on it Strong for heavy pots also...so I recommend to buy... Sturdy & attractive. The dimensions are not as per specifications provided in the description. It is 60X20X10 cm. Otherwise the workmanship is very good. All the pegs are properly leveled. . It is actually good and it's size looks perfect too. Nice product for my small balcony garden.... Now it's become easy to clean the balcony floor. It's a sturdy addition to my balcony. Nice looking. A must buy at such a low price . Good material Product is good. Sturdy material. Liked it The stands are not strong enough. bottom stands are not flat. 1 stand cannot take more than 15 kg of weight for long time. Buy No fuss, minimalistic design for a sophisticated look. It is better to get an iron plant stand made from a welder. This stand doesn't have a long life, the iron bars are very thin, when you will going to place your pots over the stand, it will Trumble like hell.. Quality stuff, but the size (lxb) of the stand has reduced. Not the same size I bought the first time. The seller shouldn't have reduced the size. Quality is good, finishing is good, just a concern with decreased rack size. Highly recommend this product! Neat and doesn't leave any fabrications marks anywhere...just go for it! Working ok, can sustain weight, but not hold more than medium size pot. Bars are of very small size, it's a light product, i feel it's a pricey one. Good product. Finishing is not great. Some bars are lengthy than welds. Round shaped bars are not great on top, it should have been flat. But, it can hold good amount of weight. That's the plus point Product is quite sturdy and received with no damage. Can handle 2 big pots and matches the size given in catalogue Minor improvements needed on painting Used the product for placing pots in the balcony. The elevation of the stand makes it easier to clean underneath the pots while also helping in organising the area. The overall look and feel of the product is pretty good and it is recommended for plant lovers. Size and height is look like very small.hardly hold 3 regular pots. Can be more cheaper as its not so kuch of sturdy. Although good product can recommend for balcony gardening.\""
      ]
     },
     "execution_count": 5,
     "metadata": {},
     "output_type": "execute_result"
    }
   ],
   "source": [
    "messages"
   ]
  },
  {
   "cell_type": "code",
   "execution_count": 6,
   "metadata": {},
   "outputs": [],
   "source": [
    "def clean_words(new_tokens):\n",
    "    new_tokens = [t.lower() for t in new_tokens]\n",
    "    new_tokens =[t for t in new_tokens if t not in stopwords.words('english')]\n",
    "    new_tokens = [t for t in new_tokens if t.isalpha()]\n",
    "    lemmatizer = WordNetLemmatizer()\n",
    "    new_tokens =[lemmatizer.lemmatize(t) for t in new_tokens]\n",
    "    return new_tokens"
   ]
  },
  {
   "cell_type": "code",
   "execution_count": 7,
   "metadata": {},
   "outputs": [],
   "source": [
    "lowered = clean_words(words)"
   ]
  },
  {
   "cell_type": "code",
   "execution_count": 8,
   "metadata": {},
   "outputs": [
    {
     "data": {
      "text/plain": [
       "Counter({'feeling': 1,\n",
       "         'better': 2,\n",
       "         'put': 2,\n",
       "         'plant': 4,\n",
       "         'pot': 10,\n",
       "         'terrace': 1,\n",
       "         'luk': 1,\n",
       "         'classy': 1,\n",
       "         'nd': 1,\n",
       "         'clean': 3,\n",
       "         'bad': 1,\n",
       "         'stuff': 2,\n",
       "         'class': 1,\n",
       "         'quality': 4,\n",
       "         'used': 2,\n",
       "         'placing': 2,\n",
       "         'potted': 1,\n",
       "         'arranged': 1,\n",
       "         'nice': 4,\n",
       "         'manner': 1,\n",
       "         'six': 1,\n",
       "         'big': 3,\n",
       "         'sized': 1,\n",
       "         'thaaàaaank': 1,\n",
       "         'overall': 2,\n",
       "         'good': 15,\n",
       "         'stand': 10,\n",
       "         'stable': 1,\n",
       "         'well': 1,\n",
       "         'wire': 1,\n",
       "         'attached': 1,\n",
       "         'ok': 2,\n",
       "         'product': 11,\n",
       "         'price': 2,\n",
       "         'edge': 1,\n",
       "         'finished': 1,\n",
       "         'cutting': 1,\n",
       "         'sharpen': 1,\n",
       "         'also': 3,\n",
       "         'way': 1,\n",
       "         'durable': 1,\n",
       "         'joint': 1,\n",
       "         'welding': 1,\n",
       "         'strong': 2,\n",
       "         'heavy': 1,\n",
       "         'recommend': 3,\n",
       "         'buy': 3,\n",
       "         'sturdy': 5,\n",
       "         'attractive': 1,\n",
       "         'dimension': 1,\n",
       "         'per': 1,\n",
       "         'specification': 1,\n",
       "         'provided': 1,\n",
       "         'description': 1,\n",
       "         'cm': 1,\n",
       "         'otherwise': 1,\n",
       "         'workmanship': 1,\n",
       "         'peg': 1,\n",
       "         'properly': 1,\n",
       "         'actually': 1,\n",
       "         'size': 9,\n",
       "         'look': 4,\n",
       "         'perfect': 1,\n",
       "         'small': 2,\n",
       "         'balcony': 5,\n",
       "         'garden': 1,\n",
       "         'become': 1,\n",
       "         'easy': 1,\n",
       "         'floor': 1,\n",
       "         'addition': 1,\n",
       "         'looking': 1,\n",
       "         'must': 1,\n",
       "         'low': 1,\n",
       "         'material': 2,\n",
       "         'liked': 1,\n",
       "         'enough': 1,\n",
       "         'bottom': 1,\n",
       "         'flat': 2,\n",
       "         'take': 1,\n",
       "         'kg': 1,\n",
       "         'weight': 3,\n",
       "         'long': 2,\n",
       "         'time': 2,\n",
       "         'fuss': 1,\n",
       "         'minimalistic': 1,\n",
       "         'design': 1,\n",
       "         'sophisticated': 1,\n",
       "         'get': 1,\n",
       "         'iron': 2,\n",
       "         'made': 1,\n",
       "         'welder': 1,\n",
       "         'life': 1,\n",
       "         'bar': 4,\n",
       "         'thin': 1,\n",
       "         'going': 1,\n",
       "         'place': 1,\n",
       "         'trumble': 1,\n",
       "         'like': 2,\n",
       "         'hell': 1,\n",
       "         'lxb': 1,\n",
       "         'reduced': 2,\n",
       "         'bought': 1,\n",
       "         'first': 1,\n",
       "         'seller': 1,\n",
       "         'finishing': 2,\n",
       "         'concern': 1,\n",
       "         'decreased': 1,\n",
       "         'rack': 1,\n",
       "         'highly': 1,\n",
       "         'neat': 1,\n",
       "         'leave': 1,\n",
       "         'fabrication': 1,\n",
       "         'mark': 1,\n",
       "         'anywhere': 1,\n",
       "         'go': 1,\n",
       "         'working': 1,\n",
       "         'sustain': 1,\n",
       "         'hold': 3,\n",
       "         'medium': 1,\n",
       "         'light': 1,\n",
       "         'feel': 2,\n",
       "         'pricey': 1,\n",
       "         'one': 1,\n",
       "         'great': 2,\n",
       "         'lengthy': 1,\n",
       "         'weld': 1,\n",
       "         'round': 1,\n",
       "         'shaped': 1,\n",
       "         'top': 1,\n",
       "         'amount': 1,\n",
       "         'plus': 1,\n",
       "         'point': 1,\n",
       "         'quite': 1,\n",
       "         'received': 1,\n",
       "         'damage': 1,\n",
       "         'handle': 1,\n",
       "         'match': 1,\n",
       "         'given': 1,\n",
       "         'catalogue': 1,\n",
       "         'minor': 1,\n",
       "         'improvement': 1,\n",
       "         'needed': 1,\n",
       "         'painting': 1,\n",
       "         'elevation': 1,\n",
       "         'make': 1,\n",
       "         'easier': 1,\n",
       "         'underneath': 1,\n",
       "         'helping': 1,\n",
       "         'organising': 1,\n",
       "         'area': 1,\n",
       "         'pretty': 1,\n",
       "         'recommended': 1,\n",
       "         'lover': 1,\n",
       "         'height': 1,\n",
       "         'regular': 1,\n",
       "         'cheaper': 1,\n",
       "         'kuch': 1,\n",
       "         'although': 1,\n",
       "         'gardening': 1})"
      ]
     },
     "execution_count": 8,
     "metadata": {},
     "output_type": "execute_result"
    }
   ],
   "source": [
    "bow = Counter(lowered)\n",
    "bow"
   ]
  },
  {
   "cell_type": "code",
   "execution_count": 9,
   "metadata": {},
   "outputs": [],
   "source": [
    "data = pd.DataFrame(bow.items(),columns=['word','frequency']).sort_values(by='frequency',ascending=False)"
   ]
  },
  {
   "cell_type": "code",
   "execution_count": 10,
   "metadata": {},
   "outputs": [],
   "source": [
    "data = data.head(10)"
   ]
  },
  {
   "cell_type": "code",
   "execution_count": 11,
   "metadata": {},
   "outputs": [
    {
     "data": {
      "text/plain": [
       "<AxesSubplot:xlabel='frequency', ylabel='word'>"
      ]
     },
     "execution_count": 11,
     "metadata": {},
     "output_type": "execute_result"
    },
    {
     "data": {
      "image/png": "[encoded data removed]",
      "text/plain": [
       "<Figure size 640x480 with 1 Axes>"
      ]
     },
     "metadata": {},
     "output_type": "display_data"
    }
   ],
   "source": [
    "sns.barplot(x='frequency',y='word',data=data)"
   ]
  },
  {
   "cell_type": "code",
   "execution_count": null,
   "metadata": {},
   "outputs": [],
   "source": []
  }
 ],
 "metadata": {
  "kernelspec": {
   "display_name": "Python 3.10.6 64-bit",
   "language": "python",
   "name": "python3"
  },
  "language_info": {
   "codemirror_mode": {
    "name": "ipython",
    "version": 3
   },
   "file_extension": ".py",
   "mimetype": "text/x-python",
   "name": "python",
   "nbconvert_exporter": "python",
   "pygments_lexer": "ipython3",
   "version": "3.10.6"
  },
  "orig_nbformat": 4,
  "vscode": {
   "interpreter": {
    "hash": "916dbcbb3f70747c44a77c7bcd40155683ae19c65e1c03b4aa3499c5328201f1"
   }
  }
 },
 "nbformat": 4,
 "nbformat_minor": 2
}

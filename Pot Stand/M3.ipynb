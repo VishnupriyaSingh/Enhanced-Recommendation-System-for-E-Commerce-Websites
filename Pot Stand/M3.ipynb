{
 "cells": [
  {
   "cell_type": "code",
   "execution_count": 1,
   "metadata": {},
   "outputs": [
    {
     "name": "stderr",
     "output_type": "stream",
     "text": [
      "[nltk_data] Downloading package averaged_perceptron_tagger to\n",
      "[nltk_data]     /home/anubhav08/nltk_data...\n",
      "[nltk_data]   Package averaged_perceptron_tagger is already up-to-\n",
      "[nltk_data]       date!\n"
     ]
    }
   ],
   "source": [
    "import nltk\n",
    "nltk.download('averaged_perceptron_tagger')\n",
    "from nltk.corpus import state_union\n",
    "from nltk.tokenize import PunktSentenceTokenizer"
   ]
  },
  {
   "cell_type": "code",
   "execution_count": 2,
   "metadata": {},
   "outputs": [],
   "source": [
    "my_file = open(\"Text Reviews.txt\", \"r\")\n",
    "  \n",
    "# reading the file\n",
    "data = my_file.read()\n",
    "  \n",
    "# replacing end splitting the text \n",
    "# when newline ('\\n') is seen.\n",
    "text = data.split(\"\\n\")\n",
    "my_file.close()"
   ]
  },
  {
   "cell_type": "code",
   "execution_count": 3,
   "metadata": {},
   "outputs": [
    {
     "name": "stdout",
     "output_type": "stream",
     "text": [
      "After Split: ['Feeling better to put our plants pot on it. Terrace luk classy nd clean', '', 'Very bad stuff.. 3rd class quality', '', 'Used it for placing potted plants arranged in a nice manner.. Six big sized pots . Thaaàaaank you...', '', 'Overall good but stand is not stable as well as wire not attached with stand', '', 'All and all ok product for the price', '', 'Very nice good....but edges are not finished cutting... Sharpen also...any way product was good quality...', '', 'Good and durable', '', 'Joint welding is very good', 'Cannot put big pots on it', '', 'Strong for heavy pots also...so I recommend to buy...', '', 'Sturdy & attractive.', '', 'The dimensions are not as per specifications provided in the description. It is 60X20X10 cm. Otherwise the workmanship is very good. All the pegs are properly leveled. .', '', \"It is actually good and it's size looks perfect too.\", '', \"Nice product for my small balcony garden.... Now it's become easy to clean the balcony floor.\", '', \"It's a sturdy addition to my balcony. Nice looking. A must buy at such a low price . Good material\", '', 'Product is good. Sturdy material. Liked it', '', 'The stands are not strong enough. bottom stands are not flat. 1 stand cannot take more than 15 kg of weight for long time. Buy', '', 'No fuss, minimalistic design for a sophisticated look.', '', \"It is better to get an iron plant stand made from a welder. This stand doesn't have a long life, the iron bars are very thin, when you will going to place your pots over the stand, it will Trumble like hell..\", '', \"Quality stuff, but the size (lxb) of the stand has reduced. Not the same size I bought the first time. The seller shouldn't have reduced the size. Quality is good, finishing is good, just a concern with decreased rack size.\", '', \"Highly recommend this product! Neat and doesn't leave any fabrications marks anywhere...just go for it!\", '', \"Working ok, can sustain weight, but not hold more than medium size pot. Bars are of very small size, it's a light product, i feel it's a pricey one.\", '', 'Good product. Finishing is not great. Some bars are lengthy than welds. Round shaped bars are not great on top, it should have been flat.', \"But, it can hold good amount of weight. That's the plus point\", '', 'Product is quite sturdy and received with no damage.', 'Can handle 2 big pots and matches the size given in catalogue', 'Minor improvements needed on painting', '', 'Used the product for placing pots in the balcony. The elevation of the stand makes it easier to clean underneath the pots while also helping in organising the area. The overall look and feel of the product is pretty good and it is recommended for plant lovers.', '', 'Size and height is look like very small.hardly hold 3 regular pots. Can be more cheaper as its not so kuch of sturdy. Although good product can recommend for balcony gardening.', '', '']\n",
      "After Token: [('Feeling better to put our plants pot on it. Terrace luk classy nd clean', 'NNP'), ('', 'NNP'), ('Very bad stuff.. 3rd class quality', 'NNP'), ('', 'NNP'), ('Used it for placing potted plants arranged in a nice manner.. Six big sized pots . Thaaàaaank you...', 'NNP'), ('', 'NNP'), ('Overall good but stand is not stable as well as wire not attached with stand', 'NNP'), ('', 'NNP'), ('All and all ok product for the price', 'NNP'), ('', 'NNP'), ('Very nice good....but edges are not finished cutting... Sharpen also...any way product was good quality...', 'NNP'), ('', 'NNP'), ('Good and durable', 'NNP'), ('', 'NNP'), ('Joint welding is very good', 'NNP'), ('Cannot put big pots on it', 'NNP'), ('', 'NNP'), ('Strong for heavy pots also...so I recommend to buy...', 'NNP'), ('', 'NNP'), ('Sturdy & attractive.', 'NNP'), ('', 'NNP'), ('The dimensions are not as per specifications provided in the description. It is 60X20X10 cm. Otherwise the workmanship is very good. All the pegs are properly leveled. .', 'NNP'), ('', 'NNP'), (\"It is actually good and it's size looks perfect too.\", 'NNP'), ('', 'NNP'), (\"Nice product for my small balcony garden.... Now it's become easy to clean the balcony floor.\", 'NNP'), ('', 'NNP'), (\"It's a sturdy addition to my balcony. Nice looking. A must buy at such a low price . Good material\", 'NNP'), ('', 'NNP'), ('Product is good. Sturdy material. Liked it', 'NNP'), ('', 'NNP'), ('The stands are not strong enough. bottom stands are not flat. 1 stand cannot take more than 15 kg of weight for long time. Buy', 'NNP'), ('', 'NNP'), ('No fuss, minimalistic design for a sophisticated look.', 'NNP'), ('', 'NNP'), (\"It is better to get an iron plant stand made from a welder. This stand doesn't have a long life, the iron bars are very thin, when you will going to place your pots over the stand, it will Trumble like hell..\", 'NNP'), ('', 'NNP'), (\"Quality stuff, but the size (lxb) of the stand has reduced. Not the same size I bought the first time. The seller shouldn't have reduced the size. Quality is good, finishing is good, just a concern with decreased rack size.\", 'NNP'), ('', 'NNP'), (\"Highly recommend this product! Neat and doesn't leave any fabrications marks anywhere...just go for it!\", 'NNP'), ('', 'NNP'), (\"Working ok, can sustain weight, but not hold more than medium size pot. Bars are of very small size, it's a light product, i feel it's a pricey one.\", 'NNP'), ('', 'NNP'), ('Good product. Finishing is not great. Some bars are lengthy than welds. Round shaped bars are not great on top, it should have been flat.', 'NNP'), (\"But, it can hold good amount of weight. That's the plus point\", 'NNP'), ('', 'NNP'), ('Product is quite sturdy and received with no damage.', 'NNP'), ('Can handle 2 big pots and matches the size given in catalogue', 'NNP'), ('Minor improvements needed on painting', 'NNP'), ('', 'NNP'), ('Used the product for placing pots in the balcony. The elevation of the stand makes it easier to clean underneath the pots while also helping in organising the area. The overall look and feel of the product is pretty good and it is recommended for plant lovers.', 'NNP'), ('', 'NNP'), ('Size and height is look like very small.hardly hold 3 regular pots. Can be more cheaper as its not so kuch of sturdy. Although good product can recommend for balcony gardening.', 'NNP'), ('', 'NNP'), ('', 'NN')]\n",
      "After Regex: chunk.RegexpParser with 1 stages:\n",
      "RegexpChunkParser with 1 rules:\n",
      "       <ChunkRule: '<NN.?>*<VBD.?>*<JJ.?>*<CC>?'>\n",
      "After Chunking (S\n",
      "  (mychunk\n",
      "    Feeling better to put our plants pot on it. Terrace luk classy nd clean/NNP\n",
      "    /NNP\n",
      "    Very bad stuff.. 3rd class quality/NNP\n",
      "    /NNP\n",
      "    Used it for placing potted plants arranged in a nice manner.. Six big sized pots . Thaaàaaank you.../NNP\n",
      "    /NNP\n",
      "    Overall good but stand is not stable as well as wire not attached with stand/NNP\n",
      "    /NNP\n",
      "    All and all ok product for the price/NNP\n",
      "    /NNP\n",
      "    Very nice good....but edges are not finished cutting... Sharpen also...any way product was good quality.../NNP\n",
      "    /NNP\n",
      "    Good and durable/NNP\n",
      "    /NNP\n",
      "    Joint welding is very good/NNP\n",
      "    Cannot put big pots on it/NNP\n",
      "    /NNP\n",
      "    Strong for heavy pots also...so I recommend to buy.../NNP\n",
      "    /NNP\n",
      "    Sturdy & attractive./NNP\n",
      "    /NNP\n",
      "    The dimensions are not as per specifications provided in the description. It is 60X20X10 cm. Otherwise the workmanship is very good. All the pegs are properly leveled. ./NNP\n",
      "    /NNP\n",
      "    It is actually good and it's size looks perfect too./NNP\n",
      "    /NNP\n",
      "    Nice product for my small balcony garden.... Now it's become easy to clean the balcony floor./NNP\n",
      "    /NNP\n",
      "    It's a sturdy addition to my balcony. Nice looking. A must buy at such a low price . Good material/NNP\n",
      "    /NNP\n",
      "    Product is good. Sturdy material. Liked it/NNP\n",
      "    /NNP\n",
      "    The stands are not strong enough. bottom stands are not flat. 1 stand cannot take more than 15 kg of weight for long time. Buy/NNP\n",
      "    /NNP\n",
      "    No fuss, minimalistic design for a sophisticated look./NNP\n",
      "    /NNP\n",
      "    It is better to get an iron plant stand made from a welder. This stand doesn't have a long life, the iron bars are very thin, when you will going to place your pots over the stand, it will Trumble like hell../NNP\n",
      "    /NNP\n",
      "    Quality stuff, but the size (lxb) of the stand has reduced. Not the same size I bought the first time. The seller shouldn't have reduced the size. Quality is good, finishing is good, just a concern with decreased rack size./NNP\n",
      "    /NNP\n",
      "    Highly recommend this product! Neat and doesn't leave any fabrications marks anywhere...just go for it!/NNP\n",
      "    /NNP\n",
      "    Working ok, can sustain weight, but not hold more than medium size pot. Bars are of very small size, it's a light product, i feel it's a pricey one./NNP\n",
      "    /NNP\n",
      "    Good product. Finishing is not great. Some bars are lengthy than welds. Round shaped bars are not great on top, it should have been flat./NNP\n",
      "    But, it can hold good amount of weight. That's the plus point/NNP\n",
      "    /NNP\n",
      "    Product is quite sturdy and received with no damage./NNP\n",
      "    Can handle 2 big pots and matches the size given in catalogue/NNP\n",
      "    Minor improvements needed on painting/NNP\n",
      "    /NNP\n",
      "    Used the product for placing pots in the balcony. The elevation of the stand makes it easier to clean underneath the pots while also helping in organising the area. The overall look and feel of the product is pretty good and it is recommended for plant lovers./NNP\n",
      "    /NNP\n",
      "    Size and height is look like very small.hardly hold 3 regular pots. Can be more cheaper as its not so kuch of sturdy. Although good product can recommend for balcony gardening./NNP\n",
      "    /NNP\n",
      "    /NN))\n"
     ]
    }
   ],
   "source": [
    "from nltk import pos_tag\n",
    "from nltk import RegexpParser\n",
    "print(\"After Split:\",text)\n",
    "tokens_tag = pos_tag(text)\n",
    "print(\"After Token:\",tokens_tag)\n",
    "patterns= \"\"\"mychunk:{<NN.?>*<VBD.?>*<JJ.?>*<CC>?}\"\"\"\n",
    "chunker = RegexpParser(patterns)\n",
    "print(\"After Regex:\",chunker)\n",
    "output = chunker.parse(tokens_tag)\n",
    "print(\"After Chunking\",output)"
   ]
  },
  {
   "cell_type": "code",
   "execution_count": null,
   "metadata": {},
   "outputs": [],
   "source": []
  }
 ],
 "metadata": {
  "kernelspec": {
   "display_name": "Python 3.10.6 64-bit",
   "language": "python",
   "name": "python3"
  },
  "language_info": {
   "codemirror_mode": {
    "name": "ipython",
    "version": 3
   },
   "file_extension": ".py",
   "mimetype": "text/x-python",
   "name": "python",
   "nbconvert_exporter": "python",
   "pygments_lexer": "ipython3",
   "version": "3.10.6"
  },
  "orig_nbformat": 4,
  "vscode": {
   "interpreter": {
    "hash": "916dbcbb3f70747c44a77c7bcd40155683ae19c65e1c03b4aa3499c5328201f1"
   }
  }
 },
 "nbformat": 4,
 "nbformat_minor": 2
}
